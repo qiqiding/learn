{
 "cells": [
  {
   "cell_type": "markdown",
   "metadata": {},
   "source": [
    "## 用户流失数据预测 ##\n",
    "    1.数字型数据-处理数据（去除不要的列，转换文本字符）\n",
    "    2.对数据进行数值压缩（归一化，标准化，二值化）\n",
    "    3.选择分类器（这里构造了很多可选的分类器）\n",
    "    4.选择评估指标\n",
    "    5.对预测值的处理"
   ]
  },
  {
   "cell_type": "markdown",
   "metadata": {},
   "source": [
    "   ***\n",
    "   **Q：**\n",
    "   \n",
    "    1.如何进行变量输出？\n",
    "    2.对数据进行归一化，标准化（StandardScaler），二值化\n",
    "    3.直接替换DataFrame里面的一列，法一：apply，法二：参考下面的表达式\n",
    "    4.如何一次性去除很多没有用的列\n",
    "    5.如何把文本型数据转成数值型数据\n",
    "    6.如何构造多个分类器-函数形式-返回类别（下面有返回概率的）\n",
    "    7.如何进行交叉验证\n",
    "    8.如何写评估指标-函数形式\n",
    "    9.如何构造多个分类器-函数形式-返回概率）"
   ]
  },
  {
   "cell_type": "code",
   "execution_count": 72,
   "metadata": {},
   "outputs": [],
   "source": [
    "import numpy as np\n",
    "import pandas as pd"
   ]
  },
  {
   "cell_type": "markdown",
   "metadata": {},
   "source": [
    "   **1.如何进行变量输出**\n",
    "    1..format()"
   ]
  },
  {
   "cell_type": "code",
   "execution_count": 73,
   "metadata": {},
   "outputs": [
    {
     "name": "stdout",
     "output_type": "stream",
     "text": [
      "Column names:['State', 'Account Length', 'Area Code', 'Phone', \"Int'l Plan\", 'VMail Plan', 'VMail Message', 'Day Mins', 'Day Calls', 'Day Charge', 'Eve Mins', 'Eve Calls', 'Eve Charge', 'Night Mins', 'Night Calls', 'Night Charge', 'Intl Mins', 'Intl Calls', 'Intl Charge', 'CustServ Calls', 'Churn?']\n",
      "  State  Account Length  Area Code     Phone Int'l Plan VMail Plan  \\\n",
      "0    KS             128        415  382-4657         no        yes   \n",
      "1    OH             107        415  371-7191         no        yes   \n",
      "2    NJ             137        415  358-1921         no         no   \n",
      "3    OH              84        408  375-9999        yes         no   \n",
      "4    OK              75        415  330-6626        yes         no   \n",
      "\n",
      "   VMail Message  Day Mins  Day Calls  Day Charge   ...    Eve Calls  \\\n",
      "0             25     265.1        110       45.07   ...           99   \n",
      "1             26     161.6        123       27.47   ...          103   \n",
      "2              0     243.4        114       41.38   ...          110   \n",
      "3              0     299.4         71       50.90   ...           88   \n",
      "4              0     166.7        113       28.34   ...          122   \n",
      "\n",
      "   Eve Charge  Night Mins  Night Calls  Night Charge  Intl Mins  Intl Calls  \\\n",
      "0       16.78       244.7           91         11.01       10.0           3   \n",
      "1       16.62       254.4          103         11.45       13.7           3   \n",
      "2       10.30       162.6          104          7.32       12.2           5   \n",
      "3        5.26       196.9           89          8.86        6.6           7   \n",
      "4       12.61       186.9          121          8.41       10.1           3   \n",
      "\n",
      "   Intl Charge  CustServ Calls  Churn?  \n",
      "0         2.70               1  False.  \n",
      "1         3.70               1  False.  \n",
      "2         3.29               0  False.  \n",
      "3         1.78               2  False.  \n",
      "4         2.73               3  False.  \n",
      "\n",
      "[5 rows x 21 columns]\n",
      "3333\n"
     ]
    }
   ],
   "source": [
    "churn_df = pd.read_csv('./churn.csv',encoding=\"utf-8\")\n",
    "print(\"Column names:{}\".format(churn_df.columns.tolist()))\n",
    "print(churn_df.head())\n",
    "print(len(churn_df))"
   ]
  },
  {
   "cell_type": "markdown",
   "metadata": {},
   "source": [
    "   **2.对数据进行归一化，标准化（StandardScaler），二值化**\n",
    "    \n",
    "   **3.直接替换DataFrame里面的一列，法一：apply，法二：参考下面的表达式**\n",
    "    \n",
    "   **4.如何一次性去除很多没有用的列**\n",
    "   \n",
    "   **5.如何把文本型数据转成数值型数据**"
   ]
  },
  {
   "cell_type": "code",
   "execution_count": 74,
   "metadata": {},
   "outputs": [
    {
     "name": "stdout",
     "output_type": "stream",
     "text": [
      "[[128.     0.     1.   ...   3.     2.7    1.  ]\n",
      " [107.     0.     1.   ...   3.     3.7    1.  ]\n",
      " [137.     0.     0.   ...   5.     3.29   0.  ]\n",
      " ...\n",
      " [ 28.     0.     0.   ...   6.     3.81   2.  ]\n",
      " [184.     1.     0.   ...  10.     1.35   2.  ]\n",
      " [ 74.     0.     1.   ...   4.     3.7    0.  ]]\n",
      "[ 0.67648946 -0.32758048  1.6170861   1.23488274  1.56676695  0.47664315\n",
      "  1.56703625 -0.07060962 -0.05594035 -0.07042665  0.86674322 -0.46549436\n",
      "  0.86602851 -0.08500823 -0.60119509 -0.0856905  -0.42793202]\n",
      "2850\n",
      "483\n"
     ]
    }
   ],
   "source": [
    "#数据处理\n",
    "from sklearn.preprocessing import StandardScaler\n",
    "import re\n",
    "\n",
    "#1.对标签进行处理，这里单独拿出来了\n",
    "y = np.where(churn_result == 'True.',1,0)\n",
    "\n",
    "#2.去掉没用的列\n",
    "to_drop = ['State','Area Code','Phone','Churn?']\n",
    "churn_feat_space = churn_df.drop(to_drop,axis=1)\n",
    "\n",
    "#3.把yes和no的值都转成0，1\n",
    "yes_no = [\"Int'l Plan\",'VMail Plan']\n",
    "churn_feat_space[yes_no] = churn_feat_space[yes_no] == 'yes'\n",
    "\n",
    "#4.压缩数值\n",
    "X = churn_feat_space.as_matrix().astype(np.float)\n",
    "print(X)\n",
    "scaler = StandardScaler()#\n",
    "X = scaler.fit_transform(X)\n",
    "print(X[0])\n",
    "print(len(y[y == 0]))#流失\n",
    "print(len(y[y == 1]))#不流失，不均衡现象"
   ]
  },
  {
   "cell_type": "markdown",
   "metadata": {},
   "source": [
    "**6.如何构造多个分类器-函数形式-返回类别（下面有返回概率的）**\n",
    "\n",
    "**7.如何进行交叉验证**"
   ]
  },
  {
   "cell_type": "code",
   "execution_count": 75,
   "metadata": {},
   "outputs": [],
   "source": [
    "#分类器集合\n",
    "from sklearn.cross_validation import KFold\n",
    "\n",
    "def run_cv(X,y,clf_class,**kwargs):\n",
    "    #构造交叉对象\n",
    "    kf = KFold(len(y),n_folds=5,shuffle=True)\n",
    "    y_pred = y.copy() #下面的预测结果直接在上面改，牛\n",
    "    \n",
    "    #迭代每一次交叉验证\n",
    "    for train_index, test_index in kf:\n",
    "        X_train, X_test = X[train_index], X[test_index]\n",
    "        y_train = y[train_index]\n",
    "        \n",
    "        #用各种参数初始化一个分类器\n",
    "        clf = clf_class(**kwargs)\n",
    "        clf.fit(X_train,y_train)\n",
    "        y_pred[test_index] = clf.predict(X_test)\n",
    "        return y_pred"
   ]
  },
  {
   "cell_type": "markdown",
   "metadata": {},
   "source": [
    "**8.如何写评估指标-函数形式**"
   ]
  },
  {
   "cell_type": "code",
   "execution_count": 76,
   "metadata": {},
   "outputs": [
    {
     "name": "stdout",
     "output_type": "stream",
     "text": [
      "Support vector machines:\n",
      "accuracy_score:0.9831983198319832\n",
      "precision_score:0.988558352402746\n",
      "recall_score:0.8944099378881988\n",
      "Random forest:\n",
      "accuracy_score:0.987998799879988\n",
      "precision_score:0.9825708061002179\n",
      "recall_score:0.9337474120082816\n",
      "K-nearest-neighbors:\n",
      "accuracy_score:0.9756975697569757\n",
      "precision_score:0.9785714285714285\n",
      "recall_score:0.8509316770186336\n"
     ]
    }
   ],
   "source": [
    "#评估指标\n",
    "import numpy as np\n",
    "from sklearn.metrics import precision_score\n",
    "from sklearn.metrics import recall_score\n",
    "from sklearn.metrics import accuracy_score \n",
    "\n",
    "from sklearn.svm import SVC\n",
    "from sklearn.ensemble import RandomForestClassifier as RF\n",
    "from sklearn.neighbors import KNeighborsClassifier as KNN\n",
    "\n",
    "def accuracy(y_true, y_pred):\n",
    "    print(\"accuracy_score:{}\".format(accuracy_score(y_true, y_pred)))\n",
    "    print(\"precision_score:{}\".format(precision_score(y_true, y_pred)))\n",
    "    print(\"recall_score:{}\".format(recall_score(y_true, y_pred)))\n",
    "    #return np.mean(y_true == y_pred)#算术平均数，其实也算是准确率\n",
    "\n",
    "print(\"Support vector machines:\")\n",
    "accuracy(y,run_cv(X,y,SVC))\n",
    "print(\"Random forest:\")\n",
    "accuracy(y,run_cv(X,y,RF))\n",
    "print(\"K-nearest-neighbors:\")\n",
    "accuracy(y,run_cv(X,y,KNN))"
   ]
  },
  {
   "cell_type": "markdown",
   "metadata": {},
   "source": [
    "**9.如何构造多个分类器-函数形式-返回概率）**\n",
    "\n",
    "    定流失用户的优先级，有的用户有60%的可能流失，有的有90%,先处理后者的情况\n",
    "    把之前算的东西设置成概率值，规定一个可以容忍的值，多少概率才是流失！"
   ]
  },
  {
   "cell_type": "code",
   "execution_count": 77,
   "metadata": {},
   "outputs": [
    {
     "name": "stdout",
     "output_type": "stream",
     "text": [
      "[[0.9 0.1]\n",
      " [0.9 0.1]\n",
      " [1.  0. ]\n",
      " ...\n",
      " [0.8 0.2]\n",
      " [0.7 0.3]\n",
      " [0.8 0.2]]\n"
     ]
    }
   ],
   "source": [
    "def run_prob_cv(X,y,clf_class,**kwargs):\n",
    "    kf = KFold(len(y),n_folds=5,shuffle=True)\n",
    "    y_prob = np.zeros((len(y),2))\n",
    "    for train_index, test_index in kf:\n",
    "        X_train, X_test = X[train_index],X[test_index]\n",
    "        y_train = y[train_index]\n",
    "        clf = clf_class(**kwargs)\n",
    "        clf.fit(X_train, y_train)\n",
    "        #预测概率，而不是类别\n",
    "        y_prob[test_index] = clf.predict_proba(X_test)#注意这个赋值方法\n",
    "    return y_prob\n",
    "\n",
    "pred_prob = run_prob_cv(X, y, RF, n_estimators=10)\n",
    "print(pred_prob)"
   ]
  },
  {
   "cell_type": "markdown",
   "metadata": {},
   "source": [
    "**下面是概率的例子，但是我没怎么看懂**\n",
    "\n",
    "    之前看过一次，得到这个概率值后，去类别1的概率，对这个概率可以进行的操作是：加上一点值。然后在round()一下，去评估指标那里。"
   ]
  },
  {
   "cell_type": "code",
   "execution_count": 78,
   "metadata": {},
   "outputs": [
    {
     "name": "stdout",
     "output_type": "stream",
     "text": [
      "[[1.  0. ]\n",
      " [1.  0. ]\n",
      " [1.  0. ]\n",
      " ...\n",
      " [0.9 0.1]\n",
      " [0.7 0.3]\n",
      " [1.  0. ]]\n",
      "test\n",
      "[False False False ... False False False]\n",
      "sd\n",
      "0.0    1739\n",
      "0.1     734\n",
      "0.2     253\n",
      "0.3     143\n",
      "0.9      81\n",
      "0.7      75\n",
      "0.8      72\n",
      "0.6      63\n",
      "0.5      61\n",
      "0.4      56\n",
      "1.0      56\n",
      "dtype: int64\n"
     ]
    },
    {
     "data": {
      "text/html": [
       "<div>\n",
       "<style scoped>\n",
       "    .dataframe tbody tr th:only-of-type {\n",
       "        vertical-align: middle;\n",
       "    }\n",
       "\n",
       "    .dataframe tbody tr th {\n",
       "        vertical-align: top;\n",
       "    }\n",
       "\n",
       "    .dataframe thead th {\n",
       "        text-align: right;\n",
       "    }\n",
       "</style>\n",
       "<table border=\"1\" class=\"dataframe\">\n",
       "  <thead>\n",
       "    <tr style=\"text-align: right;\">\n",
       "      <th></th>\n",
       "      <th>pred_prob</th>\n",
       "      <th>count</th>\n",
       "      <th>true_prob</th>\n",
       "    </tr>\n",
       "  </thead>\n",
       "  <tbody>\n",
       "    <tr>\n",
       "      <th>0</th>\n",
       "      <td>0.0</td>\n",
       "      <td>1739</td>\n",
       "      <td>0.028177</td>\n",
       "    </tr>\n",
       "    <tr>\n",
       "      <th>1</th>\n",
       "      <td>0.1</td>\n",
       "      <td>734</td>\n",
       "      <td>0.034060</td>\n",
       "    </tr>\n",
       "    <tr>\n",
       "      <th>2</th>\n",
       "      <td>0.2</td>\n",
       "      <td>253</td>\n",
       "      <td>0.027668</td>\n",
       "    </tr>\n",
       "    <tr>\n",
       "      <th>3</th>\n",
       "      <td>0.3</td>\n",
       "      <td>143</td>\n",
       "      <td>0.139860</td>\n",
       "    </tr>\n",
       "    <tr>\n",
       "      <th>4</th>\n",
       "      <td>0.9</td>\n",
       "      <td>81</td>\n",
       "      <td>0.987654</td>\n",
       "    </tr>\n",
       "    <tr>\n",
       "      <th>5</th>\n",
       "      <td>0.7</td>\n",
       "      <td>75</td>\n",
       "      <td>0.946667</td>\n",
       "    </tr>\n",
       "    <tr>\n",
       "      <th>6</th>\n",
       "      <td>0.8</td>\n",
       "      <td>72</td>\n",
       "      <td>0.916667</td>\n",
       "    </tr>\n",
       "    <tr>\n",
       "      <th>7</th>\n",
       "      <td>0.6</td>\n",
       "      <td>63</td>\n",
       "      <td>0.698413</td>\n",
       "    </tr>\n",
       "    <tr>\n",
       "      <th>8</th>\n",
       "      <td>0.5</td>\n",
       "      <td>61</td>\n",
       "      <td>0.721311</td>\n",
       "    </tr>\n",
       "    <tr>\n",
       "      <th>9</th>\n",
       "      <td>0.4</td>\n",
       "      <td>56</td>\n",
       "      <td>0.375000</td>\n",
       "    </tr>\n",
       "    <tr>\n",
       "      <th>10</th>\n",
       "      <td>1.0</td>\n",
       "      <td>56</td>\n",
       "      <td>1.000000</td>\n",
       "    </tr>\n",
       "  </tbody>\n",
       "</table>\n",
       "</div>"
      ],
      "text/plain": [
       "    pred_prob  count  true_prob\n",
       "0         0.0   1739   0.028177\n",
       "1         0.1    734   0.034060\n",
       "2         0.2    253   0.027668\n",
       "3         0.3    143   0.139860\n",
       "4         0.9     81   0.987654\n",
       "5         0.7     75   0.946667\n",
       "6         0.8     72   0.916667\n",
       "7         0.6     63   0.698413\n",
       "8         0.5     61   0.721311\n",
       "9         0.4     56   0.375000\n",
       "10        1.0     56   1.000000"
      ]
     },
     "execution_count": 78,
     "metadata": {},
     "output_type": "execute_result"
    }
   ],
   "source": [
    "import warnings\n",
    "warnings.filterwarnings('ignore')\n",
    "\n",
    "pred_prob = run_prob_cv(X, y, RF, n_estimators=10)\n",
    "print(pred_prob)\n",
    "pred_churn = pred_prob[:,1]\n",
    "is_churn = y ==1\n",
    "print(\"test\")\n",
    "print(is_churn)\n",
    "\n",
    "counts = pd.value_counts(pred_churn)\n",
    "print(\"sd\")\n",
    "print(counts)\n",
    "\n",
    "true_prob = {}\n",
    "for prob in counts.index:\n",
    "    true_prob[prob] = np.mean(is_churn[pred_churn == prob])\n",
    "    true_prob = pd.Series(true_prob)\n",
    "    \n",
    "counts = pd.concat([counts,true_prob],axis=1).reset_index()\n",
    "counts.columns = ['pred_prob','count','true_prob']\n",
    "counts"
   ]
  }
 ],
 "metadata": {
  "kernelspec": {
   "display_name": "Python [default]",
   "language": "python",
   "name": "python3"
  },
  "language_info": {
   "codemirror_mode": {
    "name": "ipython",
    "version": 3
   },
   "file_extension": ".py",
   "mimetype": "text/x-python",
   "name": "python",
   "nbconvert_exporter": "python",
   "pygments_lexer": "ipython3",
   "version": "3.6.5"
  }
 },
 "nbformat": 4,
 "nbformat_minor": 2
}
