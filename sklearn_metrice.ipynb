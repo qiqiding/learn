{
 "cells": [
  {
   "cell_type": "code",
   "execution_count": 15,
   "metadata": {},
   "outputs": [
    {
     "name": "stdout",
     "output_type": "stream",
     "text": [
      "1.0\n",
      "1.000000\t0.500000\t0.666667\t0.666667\n"
     ]
    }
   ],
   "source": [
    "from sklearn import metrics\n",
    "from sklearn.metrics import f1_score, accuracy_score, recall_score, precision_score\n",
    "y_true = [0, 1, 1, 0, 1, 1]\n",
    "y_pred = [0, 0, 0, 0, 1, 1]\n",
    "\n",
    "y_true_1 = [0, 1, 2, 0, 1, 2]\n",
    "y_pred_1 = [0, 2, 3, 0, 0, 1]\n",
    "\n",
    "y_true_2 = [0, 1, 2, 0, 1, 2]\n",
    "y_pred_2 = [0, 1, 1, 0, 0, 1]\n",
    "\n",
    "print(metrics.precision_score(y_true, y_pred))\n",
    "print('%f\\t%f\\t%f\\t%f'%(precision_score(y_true, y_pred),recall_score(y_true, y_pred),\n",
    "          f1_score(y_true, y_pred, average='micro'), f1_score(y_true, y_pred, average='macro')))\n",
    "#print(metrics.precision_score(y_true_1, y_pred_1, average='macro'))\n",
    "#print(metrics.precision_score(y_true_2, y_pred_2, average='macro'))\n"
   ]
  },
  {
   "cell_type": "code",
   "execution_count": null,
   "metadata": {},
   "outputs": [],
   "source": []
  }
 ],
 "metadata": {
  "kernelspec": {
   "display_name": "Python [conda env:Anaconda3]",
   "language": "python",
   "name": "conda-env-Anaconda3-py"
  },
  "language_info": {
   "codemirror_mode": {
    "name": "ipython",
    "version": 3
   },
   "file_extension": ".py",
   "mimetype": "text/x-python",
   "name": "python",
   "nbconvert_exporter": "python",
   "pygments_lexer": "ipython3",
   "version": "3.6.5"
  }
 },
 "nbformat": 4,
 "nbformat_minor": 2
}
