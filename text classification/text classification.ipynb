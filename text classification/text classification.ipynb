{
 "cells": [
  {
   "cell_type": "code",
   "execution_count": 210,
   "metadata": {},
   "outputs": [],
   "source": [
    "import pandas as pd\n",
    "import jieba\n",
    "import numpy as np"
   ]
  },
  {
   "cell_type": "markdown",
   "metadata": {},
   "source": [
    "### 数据源：http://www.sogou.com/labs/resource/list_news.php ###"
   ]
  },
  {
   "cell_type": "code",
   "execution_count": 154,
   "metadata": {},
   "outputs": [
    {
     "data": {
      "text/plain": [
       "<bound method NDFrame.head of      category                                 theme  \\\n",
       "0          汽车  新辉腾　４．２　Ｖ８　４座加长Ｉｎｄｉｖｉｄｕａｌ版２０１１款　最新报价   \n",
       "1          汽车                         ９１８　Ｓｐｙｄｅｒ概念车   \n",
       "2          汽车              日内瓦亮相　ＭＩＮＩ性能版／概念车－１．６Ｔ引擎   \n",
       "3          汽车                清仓大甩卖一汽夏利Ｎ５威志Ｖ２低至３．３９万   \n",
       "4          汽车                    大众敞篷家族新成员　高尔夫敞篷版实拍   \n",
       "5          汽车            悦翔两厢　１．５　ＡＴ　舒适型　２０１０款　最新报价   \n",
       "6          汽车            戈蓝　２．４　ＡＴ　旗舰升级版　２０１２款　最新报价   \n",
       "7          汽车                                华泰　宝利格   \n",
       "8          汽车                  酷似卡宴　华泰新ＳＵＶ宝利格广州车展上市   \n",
       "9          汽车               最受欢迎ＴＯＰ１０车型出炉　帝豪ＥＣ７脱颖而出   \n",
       "10         汽车                         Ｍａｚｄａ３　２．０　ＭＴ   \n",
       "11         汽车             对手锁定ＧＴＩ　西雅特ＬＥＯＮ　ＣＵＰＲＡ到店实拍   \n",
       "12         汽车                 九江理念Ｓ１享３０００元惠民补贴　店内现车   \n",
       "13         汽车     自由客Ｐａｔｒｉｏｔ　２．４　ＣＶＴ　经典版　２０１１款　最新报价   \n",
       "14         汽车                   嘉路Ｇａｌｕｅ　ｃｏｎｖｅｒｔｉｂｌｅ   \n",
       "15         汽车                        乌兰浩特联舰汽车贸易有限公司   \n",
       "16         汽车              明锐　２．０　ＡＴ　逸杰版　２０１２款　最新报价   \n",
       "17         汽车                   双龙柯兰多深圳直降１万元　柯兰多特惠中   \n",
       "18         汽车               雷诺新款Ｅｓｃａｐｅ　ＭＰＶ曝光　动力高效节能   \n",
       "19         汽车                 “铂锐敞篷版”曝光　克莱斯勒２００Ｃ将上市   \n",
       "20         汽车                  不容错过　２０１２北京车展全球首发车前瞻   \n",
       "21         汽车                        ＨＦＣ６７００ＪＫ　最新报价   \n",
       "22         汽车                               雪铁龙Ｃ４文章   \n",
       "23         汽车                  试全新克莱斯勒３００Ｃ　美式风格的坚持者   \n",
       "24         汽车                  奥迪Ａ７展车已到店　接受预定／约等２个月   \n",
       "25         汽车                              Ｇａｌｉｂｉｅｒ   \n",
       "26         汽车                    福建公务员局三菱君阁交车仪式顺利举行   \n",
       "27         汽车                                ＨＫ（５１）   \n",
       "28         汽车                        商旅　ＸＭＬ６１０８Ｅ３１Ｈ   \n",
       "29         汽车                    ８０末小伙的创业路－力帆副总经理张浩   \n",
       "...       ...                                   ...   \n",
       "4970       时尚                          我用一句话搞定老公的情人   \n",
       "4971       时尚                   化妆水等于水　成分一样价格“差之千里”   \n",
       "4972       时尚                       组图：一周裙装搭配　魅力不重样   \n",
       "4973       时尚                  组图：１０大最新时尚偶像　穿搭品味大不同   \n",
       "4974       时尚                     厦门一女子让亲生婴儿淋雨乞讨（图）   \n",
       "4975       时尚         ＧｉｕｌｉａｎｏＮｏｃｉ：奢侈品“中国制造”，明天有多远？   \n",
       "4976       时尚               ４４岁陈红素颜照　惊现老年斑岁月不饶人（组图）   \n",
       "4977       时尚                  爱马仕销售额再现两位数增长　增速有所放缓   \n",
       "4978       时尚                    养生必吃七大蔬菜　补肾又强心（组图）   \n",
       "4979       时尚                不用去香港，卓悦网购优惠化妆品可用财付通付款   \n",
       "4980       时尚                   图解Ｒａｌｐｈ　Ｌａｕｒｅｎ的时尚历程   \n",
       "4981       时尚                       情感：三十载婚姻不抵网络红颜女   \n",
       "4982       时尚              女性养生：２３条排毒秘笈　让你比超模还瘦【１３】   \n",
       "4983       时尚              明星伴娘伴郎团比拼　李小璐爆乳抢新娘风头【１３】   \n",
       "4984       时尚           ２０１２纽约音乐节　欧美型人街拍自由奔放（组图）【４】   \n",
       "4985       时尚              窦唯倪震周星驰叶倩文　盘点偷情被捉的明星【１５】   \n",
       "4986       时尚                  女人养生要趁早！　７种食物让你年轻１５岁   \n",
       "4987       时尚                       乳房保养：教你如何让乳房更挺拔   \n",
       "4988       时尚                       中医养生：脑力工作者多吃葱和蒜   \n",
       "4989       时尚                      权威搜索排行榜的十大经典腕表推荐   \n",
       "4990       时尚           宋祖英李湘倪萍兄妹对比照　明星兄弟姐妹照大曝光【１７】   \n",
       "4991       时尚                   买护肤品长点心　９条规则让你不花冤枉钱   \n",
       "4992       时尚                   ８个已经过时的恋爱法则　小心被甩【７】   \n",
       "4993       时尚               饮食养生：８种食物最滋补女人身体（组图）【６】   \n",
       "4994       时尚               组图：铅笔裙诱惑来袭　盘点明星时尚裙装　【３】   \n",
       "4995       时尚                          常吃六类食物快速补充水分   \n",
       "4996       时尚                   情感：你是我的那盘菜　吃不起我走【２】   \n",
       "4997       时尚                     揭秘不老女神刘晓庆的四任丈夫（图）   \n",
       "4998       时尚                         样板潮爸　时尚圈里的父亲们   \n",
       "4999       时尚              全球最美女人长啥样？中国最美女人酷似章子怡（图）   \n",
       "\n",
       "                                                    URL  \\\n",
       "0           http://auto.data.people.com.cn/model_15782/   \n",
       "1     http://auto.data.people.com.cn/prdview_165423....   \n",
       "2     http://auto.data.people.com.cn/news/story_5249...   \n",
       "3     http://auto.data.people.com.cn/news/story_6144...   \n",
       "4     http://auto.data.people.com.cn/news/story_5686...   \n",
       "5           http://auto.data.people.com.cn/model_23900/   \n",
       "6           http://auto.data.people.com.cn/model_26020/   \n",
       "7     http://auto.data.people.com.cn/news/story_5396...   \n",
       "8     http://auto.data.people.com.cn/news/story_4284...   \n",
       "9     http://auto.data.people.com.cn/news/story_3902...   \n",
       "10          http://auto.data.people.com.cn/model_23891/   \n",
       "11    http://auto.data.people.com.cn/news/story_5463...   \n",
       "12    http://auto.data.people.com.cn/news/story_6153...   \n",
       "13          http://auto.data.people.com.cn/model_24254/   \n",
       "14    http://auto.data.people.com.cn/prdview_159443....   \n",
       "15        http://auto.data.people.com.cn/seller/371941/   \n",
       "16          http://auto.data.people.com.cn/model_25149/   \n",
       "17    http://auto.data.people.com.cn/news/story_6178...   \n",
       "18    http://auto.data.people.com.cn/news/story_6092...   \n",
       "19    http://auto.data.people.com.cn/news/story_2908...   \n",
       "20    http://auto.data.people.com.cn/news/story_5560...   \n",
       "21          http://auto.data.people.com.cn/model_10234/   \n",
       "22    http://auto.data.people.com.cn/bseries_945/new...   \n",
       "23    http://auto.data.people.com.cn/news/story_5852...   \n",
       "24    http://auto.data.people.com.cn/news/story_4562...   \n",
       "25    http://auto.data.people.com.cn/prdview_340020....   \n",
       "26    http://auto.data.people.com.cn/news/story_6209...   \n",
       "27    http://auto.data.people.com.cn/bseries_288/pri...   \n",
       "28           http://auto.data.people.com.cn/model_9305/   \n",
       "29    http://auto.data.people.com.cn/news/story_6196...   \n",
       "...                                                 ...   \n",
       "4970  http://lady.people.com.cn/BIG5/n/2012/0627/c10...   \n",
       "4971  http://lady.people.com.cn/n/2012/0713/c1014-18...   \n",
       "4972  http://lady.people.com.cn/BIG5/n/2012/0710/c10...   \n",
       "4973  http://lady.people.com.cn/n/2012/0723/c1014-18...   \n",
       "4974         http://lady.people.com.cn/GB/18244997.html   \n",
       "4975  http://lady.people.com.cn/n/2012/0724/c158617-...   \n",
       "4976       http://lady.people.com.cn/BIG5/18253727.html   \n",
       "4977  http://lady.people.com.cn/BIG5/n/2012/0724/c10...   \n",
       "4978  http://lady.people.com.cn/BIG5/n/2012/0709/c10...   \n",
       "4979  http://lady.people.com.cn/GB/158617/18171234.html   \n",
       "4980  http://lady.people.com.cn/BIG5/n/2012/0628/c10...   \n",
       "4981  http://lady.people.com.cn/BIG5/n/2012/0724/c10...   \n",
       "4982  http://lady.people.com.cn/n/2012/0702/c1014-18...   \n",
       "4983  http://lady.people.com.cn/n/2012/0709/c1014-18...   \n",
       "4984  http://lady.people.com.cn/n/2012/0627/c1014-18...   \n",
       "4985  http://lady.people.com.cn/n/2012/0627/c1014-18...   \n",
       "4986       http://lady.people.com.cn/BIG5/18130007.html   \n",
       "4987  http://lady.people.com.cn/n/2012/0709/c1014-18...   \n",
       "4988         http://lady.people.com.cn/GB/18256213.html   \n",
       "4989  http://lady.people.com.cn/n/2012/0626/c1014-18...   \n",
       "4990  http://lady.people.com.cn/n/2012/0725/c1014-18...   \n",
       "4991  http://lady.people.com.cn/n/2012/0629/c1014-18...   \n",
       "4992  http://lady.people.com.cn/n/2012/0628/c1014-18...   \n",
       "4993  http://lady.people.com.cn/n/2012/0705/c1014-18...   \n",
       "4994  http://lady.people.com.cn/n/2012/0712/c1014-18...   \n",
       "4995         http://lady.people.com.cn/GB/18248366.html   \n",
       "4996  http://lady.people.com.cn/n/2012/0712/c1014-18...   \n",
       "4997  http://lady.people.com.cn/n/2012/0730/c1014-18...   \n",
       "4998         http://lady.people.com.cn/GB/18215232.html   \n",
       "4999  http://lady.people.com.cn/BIG5/n/2012/0727/c10...   \n",
       "\n",
       "                                                content  \n",
       "0     经销商　电话　试驾／订车Ｕ憬杭州滨江区江陵路１７８０号４００８－１１２２３３转５８６４＃保常...  \n",
       "1          呼叫热线　４００８－１００－３００　服务邮箱　ｋｆ＠ｐｅｏｐｌｅｄａｉｌｙ．ｃｏｍ．ｃｎ  \n",
       "2     ＭＩＮＩ品牌在二月曾经公布了最新的ＭＩＮＩ新概念车Ｃｌｕｂｖａｎ效果图，不过现在在日内瓦车展...  \n",
       "3     清仓大甩卖！一汽夏利Ｎ５、威志Ｖ２低至３．３９万＝日，启新中国一汽强势推出一汽夏利Ｎ５、威志...  \n",
       "4     在今年３月的日内瓦车展上，我们见到了高尔夫家族的新成员，高尔夫敞篷版，这款全新敞篷车受到了众...  \n",
       "5     经销商　电话　试驾／订车８仕嗍√焖市秦城区岷山路２０号６．５９万Ｎ浜菏薪岸区科技馆路特１号６...  \n",
       "6     经销商　电话　试驾／订车９愣省东莞市南城区莞太大道白马路段（周溪ＢＰ油站侧）＃矗埃埃福１１２...  \n",
       "7     目前很多自主品牌的崛起都是从模仿世界老牌名车开始，这并不是一件坏事，这是一种让中国汽车业发展...  \n",
       "8     华泰在推出自主轿车Ｂ１１后，又一款自主ＳＵＶ宝利格已经确定将在１１月下旬的广州车展上市正式上...  \n",
       "9     爱美之心人皆有之，汽车的外观炫感度所形成的冲击力，往往会给第一眼与之接触的消费者留下挥之不去...  \n",
       "10                         Ｍａｚｄａ３　２．０　ＭＴ　豪华型　２０１１款　最新报价  \n",
       "11    西雅特ＬＥＯＮ的上市给喜欢大众喜欢运动的朋友一个更多的选择，动感的造型，时尚并运动的内饰让西...  \n",
       "12    【网上车市九江站讯】理念Ｓ１是广汽本田自主品牌的首款量产车型，与思迪同一个设计平台。目前，九...  \n",
       "13    经销商　电话　试驾／订车３啥际谢鸪的险疚髀罚福叮岛牛矗埃埃福１１２２３３转７８２２＃玻常８９...  \n",
       "14                                    Ｇａｌｕｅ　ｃｏｎｖｅｒｔｉｂｌｅ  \n",
       "15    业务范围：　新车Ｊ谌ㄆ放疲骸≈行她５刂罚骸∥诶己铺厥行虑沤治逯凶盘．［查看地图］５缁埃骸。埃...  \n",
       "16    经销商　电话　试驾／订车１倍环西路２６８号（中华大街与北二环交口西行５００米路南）＃矗埃埃福...  \n",
       "17    【网上车市深圳站讯】随着韩国进口双龙汽车的火热销售，其主打ＳＵＶ车型柯兰多凭借时尚、实用、环...  \n",
       "18    雷诺２０１３款Ｅｓｃａｐｅ　ＭＰＶ曝光，新款在外观及内饰上进行了很大幅度地改变，动力也更强劲...  \n",
       "19    克莱斯勒２００车型已经在海外上市。近日官方公布了该车的敞篷版细节图片，该车采用软顶敞篷，这是...  \n",
       "20    两年一度的北京国际车展在今日正式拉开了帷幕。在这开展之际，我们将提前为您带来本届车展的全球首...  \n",
       "21    上市时间：－Ｗ刺：在售Ｅ帕浚海埃０（Ｌ）３敌统叽纾撼ぃ罚埃埃担宽２０４０／高２６４５（ｍｍ）...  \n",
       "22                                     关注雪铁龙Ｃ４的用户还关注．．．  \n",
       "23    对于喜欢美式风格汽车的朋友，在美国车被欧洲化的今天，其实很难在新车辈出的国内市场找出一款真正...  \n",
       "24    奥迪Ａ７　Ｓｐｏｒｔｂａｃｋ　集轿跑车的运动优雅、豪华轿车的舒适性与旅行车的实用性于一身，完...  \n",
       "25         呼叫热线　４００８－１００－３００　服务邮箱　ｋｆ＠ｐｅｏｐｌｅｄａｉｌｙ．ｃｏｍ．ｃｎ  \n",
       "26    ２０１２年７月６日，福建省公务员局三菱君阁交车仪式在华夏汽车城福建东南汽贸顺利举行。本次省公...  \n",
       "27    ＨＫ　车型＃档手自一体Ｓ秃模海Ｌ／１００ＫＭＶ傅技郏海保保６５万Ｊ谐〖郏海保保６５－１１．６...  \n",
       "28                 暂时没有商旅　ＸＭＬ６１０８Ｅ３１Ｈ　的报价，您可以到网上车市查看报价。  \n",
       "29    随着人们对车辆的多元化需求，拥有舒适性、大空间、多功能于一身的ＳＵＶ车型受到了消费者一致的好...  \n",
       "...                                                 ...  \n",
       "4970  我用一句话搞定老公的情人（１？１张）＠瞎是个老实人７⑸那件事以前，要是谁告诉我我老公有外遇，...  \n",
       "4971  很多嘉人网的网友都知道，彻底清洁完肌肤之后，需要先使用化妆水作为肌肤的第二层清洁，以及对肌肤...  \n",
       "4972  时尚解析：可爱的娃娃款连衣裙搭配复古的背包，给人感觉清新怡人，搭配裸色高跟鞋，在可爱的同时又...  \n",
       "4973  １．　Ｌｅｅｌｅｅ　Ｓｏｂｉｅｓｋｉ＃蹋澹澹欤澹濉。樱铮猓椋澹螅耄榈南壬Ａｄａｍ　Ｋｉｍｍｅ...  \n",
       "4974  近日，一名女子让婴儿淋雨乞讨，遭网友曝光，但警方称双方为母子关系。　网络截图；声在线６月１９...  \n",
       "4975  伴随着中国经济实力的崛起，中国人对奢侈品的消费需求也持续走强。预计到２０１５年，中国将成为全...  \n",
       "4976  陈凯歌和陈红是圈内人人羡慕的“甜蜜夫妻档”。结婚十年来，他们的婚姻异常美满，在事业上更是相辅...  \n",
       "4977  导语：据经济之声《天下财经》报道，法国奢侈品巨头爱马仕集团发布公告说，第二季度销售额同比增长...  \n",
       "4978  感冒打喷嚏，要多吃一些蔬菜，在提高机体免疫力的同时，也能解决肌肤干燥，腹泻、便秘等难题，甚至...  \n",
       "4979  近日，财付通宣布与Ｃｙｂｅｒｓｏｕｒｃｅ、Ａｓｉａｐａｙ等全球知名的电子支付提供商以及香港卓...  \n",
       "4980  设计师Ｒａｌｐｈ　Ｌａｕｒｅｎ从事时装设计工作已经有４０多年了，从１９６７年开始建立品牌，他...  \n",
       "4981  导读：１８岁的女孩是细瓷，３０岁的女人是粗瓷，５０岁的女人得是塑料，要耐摔，矫情容易被人笑话...  \n",
       "4982  １２．　夏天我们常喝绿豆汤，可以清热解毒。其实绿豆可以“解百毒”例如重金属中毒，药物中毒，食...  \n",
       "4983  电眼美女林熙蕾２０１１年３月在马尔代夫低调出嫁，仅邀请三十多位亲友出席。舒淇则特意从剧组请假...  \n",
       "4984                      ２０１２纽约Ｇｏｖｅｒｎｏｒｓ　Ｂａｌｌ音乐节欧美型人街拍  \n",
       "4985  窦唯倪震周星驰叶倩文　盘点偷情被捉的明星　（１５／３０张）Ｍ醴疲涸撞破窦唯与高原一起鬼混　天...  \n",
       "4986  谁都知道，女人保养要趁早。但在人们意识中，总觉得抗老是件既昂贵，难度又极高的事情。其实，抗衰...  \n",
       "4987  乳房保养的秘诀就是勤快，除了坚持好的作息，更重要的每天不间断地保养，才能让乳房不下垂，远离乳...  \n",
       "4988  脑是人体的高级神经活动中枢，它通过感觉器官和周身神经系统，维持、调节人体各器官功能的正常活动...  \n",
       "4989  导语：最新的Ｗｏｒｌｄ　Ｗａｔｃｈ　Ｒｅｐｏｒｔ（世界钟表报告）为我们提供了腕表搜索排行榜，...  \n",
       "4990                                       （责任编辑：李昉、王静）  \n",
       "4991  导读：你每月花在护肤品上的开支是几位数？你把那鼓囊囊的钱包够买的护肤品，真让你容光焕发了没？...  \n",
       "4992  ８个已经过时的恋爱法则　小心被甩　（７　／８张）＃罚电视两人均分６园敕值募扑惴椒ㄔ谡饫锊⒉皇...  \n",
       "4993  ５、三文鱼。去年世界卫生组织发表的一项调查，指出日本人是亚洲区中最长寿的一群。这项殊荣当然要...  \n",
       "4994  铅笔裙，也叫弹性窄裙，英文名Ｐｅｎｃｉｌ　Ｓｋｉｒｔｓ。因其像铅笔一样笔直而得名，这种紧紧包...  \n",
       "4995  随着天气逐渐炎热，补水变得日益重要。据美国《跑步世界》杂志报道，喝水并不是为身体补充水分的唯...  \n",
       "4996  我其实不想说这些话刺激他，他也是不得已。可是，我又该怎样说，怎样做？我只能走，离开这个伤心地...  \n",
       "4997  ５８岁刘晓庆最新嫩照Ｏ衷诘牧跸庆绝对看不出她已经５８岁了，她绝对可以秒杀刘亦菲、范冰冰这类美...  \n",
       "4998  导语：做了爸爸就是一种幸福，无论是领养还是亲生，更何况出现在影视剧中。时尚圈永远是需要领军人...  \n",
       "4999  全球最美女人合成图：：国整形外科教授李承哲，在国际学术杂志美容整形外科学会学报发表了考虑种族...  \n",
       "\n",
       "[5000 rows x 4 columns]>"
      ]
     },
     "execution_count": 154,
     "metadata": {},
     "output_type": "execute_result"
    }
   ],
   "source": [
    "df_news = pd.read_table('./data/val.txt',names=['category','theme','URL','content'],encoding='UTF-8')#自己起列名，因为是中文，设置UTF-8\n",
    "df_news = df_news.dropna()#有一列缺失值就去除\n",
    "df_news.head"
   ]
  },
  {
   "cell_type": "code",
   "execution_count": 155,
   "metadata": {},
   "outputs": [
    {
     "data": {
      "text/plain": [
       "(5000, 4)"
      ]
     },
     "execution_count": 155,
     "metadata": {},
     "output_type": "execute_result"
    }
   ],
   "source": [
    "df_news.shape"
   ]
  },
  {
   "cell_type": "markdown",
   "metadata": {},
   "source": [
    "### 分词：使用结巴分词 ###"
   ]
  },
  {
   "cell_type": "code",
   "execution_count": 208,
   "metadata": {},
   "outputs": [
    {
     "name": "stdout",
     "output_type": "stream",
     "text": [
      "ＭＩＮＩ品牌在二月曾经公布了最新的ＭＩＮＩ新概念车Ｃｌｕｂｖａｎ效果图，不过现在在日内瓦车展上，ＭＩＮＩ品牌带来了全新的ＣＯＵＮＴＲＹＭＡＮ　ＪＣＷ版和Ｃｌｕｂｖａｎ概念车以及更多ＪＣＷ性能版车型亮相。＃停桑危伞。茫希眨危裕遥伲停粒巍。剩茫装嬖谕夤凵媳浠非常明显，其加装了空气动力学套件外观，并且针对个性的性能版车型采用了非常吸引眼球的黑色车身配红色车顶以及红色拉花的搭配。新款车型在性能上也做了改进，采用１８英寸合金轮毂，高性能刹车套件以及运动化悬挂组件，配合运动版尾排以及车侧的ＪＣＷ徽标彰显着这是一款体现性能的车型。＃停桑危伞。茫希眨危裕遥伲停粒巍。剩茫装嬖诙力上搭载的是一款１６０千瓦的１．６升涡轮增压引擎，最大扭矩３００牛米，同时还配有全轮驱动系统，百公里加速仅需７．０秒，极速被限制在２２５ｋｍ／ｈ或２２３ｋｍ／ｈ（选装６速自动变速箱）。．．．全文　＞　（来源：网上车市）\n",
      "5000\n"
     ]
    }
   ],
   "source": [
    "content = df_news.content.values.tolist()#输入list结构进行分词，表-列名-值-转列表\n",
    "print(content[2])#显示其中一条内容\n",
    "print(len(content))"
   ]
  },
  {
   "cell_type": "code",
   "execution_count": 157,
   "metadata": {},
   "outputs": [],
   "source": [
    "content_S = []\n",
    "for line in content:\n",
    "    current_segment = jieba.lcut(line)\n",
    "    if len(current_segment)>1 and current_segment !='\\r\\n':#换行符\n",
    "        content_S.append(current_segment)"
   ]
  },
  {
   "cell_type": "code",
   "execution_count": 158,
   "metadata": {},
   "outputs": [
    {
     "name": "stdout",
     "output_type": "stream",
     "text": [
      "['Ｍ', 'Ｉ', 'Ｎ', 'Ｉ', '品牌', '在', '二月', '曾经', '公布', '了', '最新', '的', 'Ｍ', 'Ｉ', 'Ｎ', 'Ｉ', '新', '概念车', 'Ｃ', 'ｌ', 'ｕ', 'ｂ', 'ｖ', 'ａ', 'ｎ', '效果图', '，', '不过', '现在', '在', '日内瓦', '车展', '上', '，', 'Ｍ', 'Ｉ', 'Ｎ', 'Ｉ', '品牌', '带来', '了', '全新', '的', 'Ｃ', 'Ｏ', 'Ｕ', 'Ｎ', 'Ｔ', 'Ｒ', 'Ｙ', 'Ｍ', 'Ａ', 'Ｎ', '\\u3000', 'Ｊ', 'Ｃ', 'Ｗ', '版', '和', 'Ｃ', 'ｌ', 'ｕ', 'ｂ', 'ｖ', 'ａ', 'ｎ', '概念车', '以及', '更', '多', 'Ｊ', 'Ｃ', 'Ｗ', '性能', '版', '车型', '亮相', '。', '＃', '停桑', '危伞', '。', '茫希', '眨', '危裕遥', '伲', '停粒巍', '。', '剩茫装', '嬖', '谕', '夤', '凵', '媳', '浠', '非常明显', '，', '其', '加装', '了', '空气', '动力学', '套件', '外观', '，', '并且', '针对', '个性', '的', '性能', '版', '车型', '采用', '了', '非常', '吸引', '眼球', '的', '黑色', '车身', '配', '红色', '车顶', '以及', '红色', '拉花', '的', '搭配', '。', '新款', '车型', '在', '性能', '上', '也', '做', '了', '改进', '，', '采用', '１', '８', '英寸', '合金', '轮毂', '，', '高性能', '刹车', '套件', '以及', '运动', '化', '悬挂', '组件', '，', '配合', '运动版', '尾排', '以及', '车侧', '的', 'Ｊ', 'Ｃ', 'Ｗ', '徽标', '彰显', '着', '这', '是', '一款', '体现', '性能', '的', '车型', '。', '＃', '停桑', '危伞', '。', '茫希', '眨', '危裕遥', '伲', '停粒巍', '。', '剩茫装', '嬖', '诙力', '上', '搭载', '的', '是', '一款', '１', '６', '０', '千瓦', '的', '１', '．', '６', '升', '涡轮', '增压', '引擎', '，', '最大', '扭矩', '３', '０', '０', '牛米', '，', '同时', '还', '配有', '全轮', '驱动', '系统', '，', '百公里', '加速', '仅', '需', '７', '．', '０', '秒', '，', '极速', '被', '限制', '在', '２', '２', '５', 'ｋ', 'ｍ', '／', 'ｈ', '或', '２', '２', '３', 'ｋ', 'ｍ', '／', 'ｈ', '（', '选装', '６', '速', '自动', '变速箱', '）', '。', '．', '．', '．', '全文', '\\u3000', '＞', '\\u3000', '（', '来源', '：', '网上', '车市', '）']\n"
     ]
    }
   ],
   "source": [
    "print(content_S[2])#看其中一条的分词结果"
   ]
  },
  {
   "cell_type": "code",
   "execution_count": 159,
   "metadata": {},
   "outputs": [
    {
     "data": {
      "text/html": [
       "<div>\n",
       "<style scoped>\n",
       "    .dataframe tbody tr th:only-of-type {\n",
       "        vertical-align: middle;\n",
       "    }\n",
       "\n",
       "    .dataframe tbody tr th {\n",
       "        vertical-align: top;\n",
       "    }\n",
       "\n",
       "    .dataframe thead th {\n",
       "        text-align: right;\n",
       "    }\n",
       "</style>\n",
       "<table border=\"1\" class=\"dataframe\">\n",
       "  <thead>\n",
       "    <tr style=\"text-align: right;\">\n",
       "      <th></th>\n",
       "      <th>content_S</th>\n",
       "    </tr>\n",
       "  </thead>\n",
       "  <tbody>\n",
       "    <tr>\n",
       "      <th>0</th>\n",
       "      <td>[经销商, 　, 电话, 　, 试驾, ／, 订车, Ｕ, 憬, 杭州, 滨江区, 江陵, ...</td>\n",
       "    </tr>\n",
       "    <tr>\n",
       "      <th>1</th>\n",
       "      <td>[呼叫, 热线, 　, ４, ０, ０, ８, －, １, ０, ０, －, ３, ０, ０...</td>\n",
       "    </tr>\n",
       "    <tr>\n",
       "      <th>2</th>\n",
       "      <td>[Ｍ, Ｉ, Ｎ, Ｉ, 品牌, 在, 二月, 曾经, 公布, 了, 最新, 的, Ｍ, Ｉ...</td>\n",
       "    </tr>\n",
       "    <tr>\n",
       "      <th>3</th>\n",
       "      <td>[清仓, 大, 甩卖, ！, 一汽, 夏利, Ｎ, ５, 、, 威志, Ｖ, ２, 低至, ...</td>\n",
       "    </tr>\n",
       "    <tr>\n",
       "      <th>4</th>\n",
       "      <td>[在, 今年, ３, 月, 的, 日内瓦, 车展, 上, ，, 我们, 见到, 了, 高尔夫...</td>\n",
       "    </tr>\n",
       "  </tbody>\n",
       "</table>\n",
       "</div>"
      ],
      "text/plain": [
       "                                           content_S\n",
       "0  [经销商, 　, 电话, 　, 试驾, ／, 订车, Ｕ, 憬, 杭州, 滨江区, 江陵, ...\n",
       "1  [呼叫, 热线, 　, ４, ０, ０, ８, －, １, ０, ０, －, ３, ０, ０...\n",
       "2  [Ｍ, Ｉ, Ｎ, Ｉ, 品牌, 在, 二月, 曾经, 公布, 了, 最新, 的, Ｍ, Ｉ...\n",
       "3  [清仓, 大, 甩卖, ！, 一汽, 夏利, Ｎ, ５, 、, 威志, Ｖ, ２, 低至, ...\n",
       "4  [在, 今年, ３, 月, 的, 日内瓦, 车展, 上, ，, 我们, 见到, 了, 高尔夫..."
      ]
     },
     "execution_count": 159,
     "metadata": {},
     "output_type": "execute_result"
    }
   ],
   "source": [
    "df_content = pd.DataFrame({'content_S':content_S})#以键值对的方式把内容放入DataFrame\n",
    "df_content.head()"
   ]
  },
  {
   "cell_type": "markdown",
   "metadata": {},
   "source": [
    "### 清洗数据 去除停用词####"
   ]
  },
  {
   "cell_type": "code",
   "execution_count": 217,
   "metadata": {},
   "outputs": [
    {
     "data": {
      "text/html": [
       "<div>\n",
       "<style scoped>\n",
       "    .dataframe tbody tr th:only-of-type {\n",
       "        vertical-align: middle;\n",
       "    }\n",
       "\n",
       "    .dataframe tbody tr th {\n",
       "        vertical-align: top;\n",
       "    }\n",
       "\n",
       "    .dataframe thead th {\n",
       "        text-align: right;\n",
       "    }\n",
       "</style>\n",
       "<table border=\"1\" class=\"dataframe\">\n",
       "  <thead>\n",
       "    <tr style=\"text-align: right;\">\n",
       "      <th></th>\n",
       "      <th>stopword</th>\n",
       "    </tr>\n",
       "  </thead>\n",
       "  <tbody>\n",
       "    <tr>\n",
       "      <th>0</th>\n",
       "      <td>!</td>\n",
       "    </tr>\n",
       "    <tr>\n",
       "      <th>1</th>\n",
       "      <td>\"</td>\n",
       "    </tr>\n",
       "    <tr>\n",
       "      <th>2</th>\n",
       "      <td>#</td>\n",
       "    </tr>\n",
       "    <tr>\n",
       "      <th>3</th>\n",
       "      <td>$</td>\n",
       "    </tr>\n",
       "    <tr>\n",
       "      <th>4</th>\n",
       "      <td>%</td>\n",
       "    </tr>\n",
       "    <tr>\n",
       "      <th>5</th>\n",
       "      <td>&amp;</td>\n",
       "    </tr>\n",
       "    <tr>\n",
       "      <th>6</th>\n",
       "      <td>'</td>\n",
       "    </tr>\n",
       "    <tr>\n",
       "      <th>7</th>\n",
       "      <td>(</td>\n",
       "    </tr>\n",
       "    <tr>\n",
       "      <th>8</th>\n",
       "      <td>)</td>\n",
       "    </tr>\n",
       "    <tr>\n",
       "      <th>9</th>\n",
       "      <td>*</td>\n",
       "    </tr>\n",
       "    <tr>\n",
       "      <th>10</th>\n",
       "      <td>+</td>\n",
       "    </tr>\n",
       "    <tr>\n",
       "      <th>11</th>\n",
       "      <td>NaN</td>\n",
       "    </tr>\n",
       "    <tr>\n",
       "      <th>12</th>\n",
       "      <td>-</td>\n",
       "    </tr>\n",
       "    <tr>\n",
       "      <th>13</th>\n",
       "      <td>--</td>\n",
       "    </tr>\n",
       "    <tr>\n",
       "      <th>14</th>\n",
       "      <td>.</td>\n",
       "    </tr>\n",
       "    <tr>\n",
       "      <th>15</th>\n",
       "      <td>..</td>\n",
       "    </tr>\n",
       "    <tr>\n",
       "      <th>16</th>\n",
       "      <td>...</td>\n",
       "    </tr>\n",
       "    <tr>\n",
       "      <th>17</th>\n",
       "      <td>......</td>\n",
       "    </tr>\n",
       "    <tr>\n",
       "      <th>18</th>\n",
       "      <td>...................</td>\n",
       "    </tr>\n",
       "    <tr>\n",
       "      <th>19</th>\n",
       "      <td>./</td>\n",
       "    </tr>\n",
       "  </tbody>\n",
       "</table>\n",
       "</div>"
      ],
      "text/plain": [
       "               stopword\n",
       "0                     !\n",
       "1                     \"\n",
       "2                     #\n",
       "3                     $\n",
       "4                     %\n",
       "5                     &\n",
       "6                     '\n",
       "7                     (\n",
       "8                     )\n",
       "9                     *\n",
       "10                    +\n",
       "11                  NaN\n",
       "12                    -\n",
       "13                   --\n",
       "14                    .\n",
       "15                   ..\n",
       "16                  ...\n",
       "17               ......\n",
       "18  ...................\n",
       "19                   ./"
      ]
     },
     "execution_count": 217,
     "metadata": {},
     "output_type": "execute_result"
    }
   ],
   "source": [
    "stopwords = pd.read_csv(\"stopwords.txt\",sep='\\t',quoting=3,names=['stopword'],encoding=\"UTF-8\")#自己定义列名\n",
    "stopwords.head(20)#显示前20个"
   ]
  },
  {
   "cell_type": "code",
   "execution_count": 219,
   "metadata": {},
   "outputs": [
    {
     "ename": "AttributeError",
     "evalue": "'DataFrame' object has no attribute 'content_S'",
     "output_type": "error",
     "traceback": [
      "\u001b[1;31m---------------------------------------------------------------------------\u001b[0m",
      "\u001b[1;31mAttributeError\u001b[0m                            Traceback (most recent call last)",
      "\u001b[1;32m<ipython-input-219-057f43bf2004>\u001b[0m in \u001b[0;36m<module>\u001b[1;34m()\u001b[0m\n\u001b[0;32m     12\u001b[0m     \u001b[1;32mreturn\u001b[0m \u001b[0mcontents_clean\u001b[0m\u001b[1;33m,\u001b[0m\u001b[0mall_words\u001b[0m\u001b[1;33m\u001b[0m\u001b[0m\n\u001b[0;32m     13\u001b[0m \u001b[1;33m\u001b[0m\u001b[0m\n\u001b[1;32m---> 14\u001b[1;33m \u001b[0mcontents\u001b[0m \u001b[1;33m=\u001b[0m \u001b[0mdf_content\u001b[0m\u001b[1;33m.\u001b[0m\u001b[0mcontent_S\u001b[0m\u001b[1;33m.\u001b[0m\u001b[0mvalues\u001b[0m\u001b[1;33m.\u001b[0m\u001b[0mtolist\u001b[0m\u001b[1;33m(\u001b[0m\u001b[1;33m)\u001b[0m\u001b[1;31m#注意格式\u001b[0m\u001b[1;33m\u001b[0m\u001b[0m\n\u001b[0m\u001b[0;32m     15\u001b[0m \u001b[0mstopwords\u001b[0m \u001b[1;33m=\u001b[0m \u001b[0mstopwords\u001b[0m\u001b[1;33m.\u001b[0m\u001b[0mstopword\u001b[0m\u001b[1;33m.\u001b[0m\u001b[0mvalues\u001b[0m\u001b[1;33m.\u001b[0m\u001b[0mtolist\u001b[0m\u001b[1;33m(\u001b[0m\u001b[1;33m)\u001b[0m\u001b[1;33m\u001b[0m\u001b[0m\n\u001b[0;32m     16\u001b[0m \u001b[0mcontents_clean\u001b[0m\u001b[1;33m,\u001b[0m \u001b[0mall_words\u001b[0m \u001b[1;33m=\u001b[0m \u001b[0mdrop_stopwords\u001b[0m\u001b[1;33m(\u001b[0m\u001b[0mcontents\u001b[0m\u001b[1;33m,\u001b[0m\u001b[0mstopwords\u001b[0m\u001b[1;33m)\u001b[0m\u001b[1;33m\u001b[0m\u001b[0m\n",
      "\u001b[1;32m~\\Anaconda3\\lib\\site-packages\\pandas\\core\\generic.py\u001b[0m in \u001b[0;36m__getattr__\u001b[1;34m(self, name)\u001b[0m\n\u001b[0;32m   4370\u001b[0m             \u001b[1;32mif\u001b[0m \u001b[0mself\u001b[0m\u001b[1;33m.\u001b[0m\u001b[0m_info_axis\u001b[0m\u001b[1;33m.\u001b[0m\u001b[0m_can_hold_identifiers_and_holds_name\u001b[0m\u001b[1;33m(\u001b[0m\u001b[0mname\u001b[0m\u001b[1;33m)\u001b[0m\u001b[1;33m:\u001b[0m\u001b[1;33m\u001b[0m\u001b[0m\n\u001b[0;32m   4371\u001b[0m                 \u001b[1;32mreturn\u001b[0m \u001b[0mself\u001b[0m\u001b[1;33m[\u001b[0m\u001b[0mname\u001b[0m\u001b[1;33m]\u001b[0m\u001b[1;33m\u001b[0m\u001b[0m\n\u001b[1;32m-> 4372\u001b[1;33m             \u001b[1;32mreturn\u001b[0m \u001b[0mobject\u001b[0m\u001b[1;33m.\u001b[0m\u001b[0m__getattribute__\u001b[0m\u001b[1;33m(\u001b[0m\u001b[0mself\u001b[0m\u001b[1;33m,\u001b[0m \u001b[0mname\u001b[0m\u001b[1;33m)\u001b[0m\u001b[1;33m\u001b[0m\u001b[0m\n\u001b[0m\u001b[0;32m   4373\u001b[0m \u001b[1;33m\u001b[0m\u001b[0m\n\u001b[0;32m   4374\u001b[0m     \u001b[1;32mdef\u001b[0m \u001b[0m__setattr__\u001b[0m\u001b[1;33m(\u001b[0m\u001b[0mself\u001b[0m\u001b[1;33m,\u001b[0m \u001b[0mname\u001b[0m\u001b[1;33m,\u001b[0m \u001b[0mvalue\u001b[0m\u001b[1;33m)\u001b[0m\u001b[1;33m:\u001b[0m\u001b[1;33m\u001b[0m\u001b[0m\n",
      "\u001b[1;31mAttributeError\u001b[0m: 'DataFrame' object has no attribute 'content_S'"
     ]
    }
   ],
   "source": [
    "def drop_stopwords(contents,stopwords):\n",
    "    contents_clean = []\n",
    "    all_words = []\n",
    "    for line in contents:\n",
    "        line_clean = []\n",
    "        for word in line:\n",
    "            if word in stopwords:\n",
    "                continue\n",
    "            line_clean.append(word)\n",
    "            all_words.append(str(word))\n",
    "        contents_clean.append(line_clean)\n",
    "    return contents_clean,all_words\n",
    "\n",
    "contents = df_content.content_S.values.tolist()#注意格式\n",
    "stopwords = stopwords.stopword.values.tolist()\n",
    "contents_clean, all_words = drop_stopwords(contents,stopwords)"
   ]
  },
  {
   "cell_type": "code",
   "execution_count": 162,
   "metadata": {},
   "outputs": [
    {
     "data": {
      "text/html": [
       "<div>\n",
       "<style scoped>\n",
       "    .dataframe tbody tr th:only-of-type {\n",
       "        vertical-align: middle;\n",
       "    }\n",
       "\n",
       "    .dataframe tbody tr th {\n",
       "        vertical-align: top;\n",
       "    }\n",
       "\n",
       "    .dataframe thead th {\n",
       "        text-align: right;\n",
       "    }\n",
       "</style>\n",
       "<table border=\"1\" class=\"dataframe\">\n",
       "  <thead>\n",
       "    <tr style=\"text-align: right;\">\n",
       "      <th></th>\n",
       "      <th>contents_clean</th>\n",
       "    </tr>\n",
       "  </thead>\n",
       "  <tbody>\n",
       "    <tr>\n",
       "      <th>0</th>\n",
       "      <td>[经销商, 电话, 试驾, 订车, Ｕ, 憬, 杭州, 滨江区, 江陵, 路, 号, 转, ...</td>\n",
       "    </tr>\n",
       "    <tr>\n",
       "      <th>1</th>\n",
       "      <td>[呼叫, 热线, 服务, 邮箱, ｋ, ｆ, ｐ, ｅ, ｏ, ｐ, ｌ, ｅ, ｄ, ａ,...</td>\n",
       "    </tr>\n",
       "    <tr>\n",
       "      <th>2</th>\n",
       "      <td>[Ｍ, Ｉ, Ｎ, Ｉ, 品牌, 二月, 公布, 最新, Ｍ, Ｉ, Ｎ, Ｉ, 新, 概念...</td>\n",
       "    </tr>\n",
       "    <tr>\n",
       "      <th>3</th>\n",
       "      <td>[清仓, 甩卖, 一汽, 夏利, Ｎ, 威志, Ｖ, 低至, 万, 启新, 中国, 一汽, ...</td>\n",
       "    </tr>\n",
       "    <tr>\n",
       "      <th>4</th>\n",
       "      <td>[日内瓦, 车展, 见到, 高尔夫, 家族, 新, 成员, 高尔夫, 敞篷版, 款, 全新,...</td>\n",
       "    </tr>\n",
       "  </tbody>\n",
       "</table>\n",
       "</div>"
      ],
      "text/plain": [
       "                                      contents_clean\n",
       "0  [经销商, 电话, 试驾, 订车, Ｕ, 憬, 杭州, 滨江区, 江陵, 路, 号, 转, ...\n",
       "1  [呼叫, 热线, 服务, 邮箱, ｋ, ｆ, ｐ, ｅ, ｏ, ｐ, ｌ, ｅ, ｄ, ａ,...\n",
       "2  [Ｍ, Ｉ, Ｎ, Ｉ, 品牌, 二月, 公布, 最新, Ｍ, Ｉ, Ｎ, Ｉ, 新, 概念...\n",
       "3  [清仓, 甩卖, 一汽, 夏利, Ｎ, 威志, Ｖ, 低至, 万, 启新, 中国, 一汽, ...\n",
       "4  [日内瓦, 车展, 见到, 高尔夫, 家族, 新, 成员, 高尔夫, 敞篷版, 款, 全新,..."
      ]
     },
     "execution_count": 162,
     "metadata": {},
     "output_type": "execute_result"
    }
   ],
   "source": [
    "df_content = pd.DataFrame({'contents_clean':contents_clean})\n",
    "df_content.head()\n"
   ]
  },
  {
   "cell_type": "code",
   "execution_count": 165,
   "metadata": {},
   "outputs": [
    {
     "data": {
      "text/html": [
       "<div>\n",
       "<style scoped>\n",
       "    .dataframe tbody tr th:only-of-type {\n",
       "        vertical-align: middle;\n",
       "    }\n",
       "\n",
       "    .dataframe tbody tr th {\n",
       "        vertical-align: top;\n",
       "    }\n",
       "\n",
       "    .dataframe thead th {\n",
       "        text-align: right;\n",
       "    }\n",
       "</style>\n",
       "<table border=\"1\" class=\"dataframe\">\n",
       "  <thead>\n",
       "    <tr style=\"text-align: right;\">\n",
       "      <th></th>\n",
       "      <th>all_words</th>\n",
       "    </tr>\n",
       "  </thead>\n",
       "  <tbody>\n",
       "    <tr>\n",
       "      <th>0</th>\n",
       "      <td>经销商</td>\n",
       "    </tr>\n",
       "    <tr>\n",
       "      <th>1</th>\n",
       "      <td>电话</td>\n",
       "    </tr>\n",
       "    <tr>\n",
       "      <th>2</th>\n",
       "      <td>试驾</td>\n",
       "    </tr>\n",
       "    <tr>\n",
       "      <th>3</th>\n",
       "      <td>订车</td>\n",
       "    </tr>\n",
       "    <tr>\n",
       "      <th>4</th>\n",
       "      <td>Ｕ</td>\n",
       "    </tr>\n",
       "  </tbody>\n",
       "</table>\n",
       "</div>"
      ],
      "text/plain": [
       "  all_words\n",
       "0       经销商\n",
       "1        电话\n",
       "2        试驾\n",
       "3        订车\n",
       "4         Ｕ"
      ]
     },
     "execution_count": 165,
     "metadata": {},
     "output_type": "execute_result"
    }
   ],
   "source": [
    "df_all_words = pd.DataFrame({\"all_words\":all_words})\n",
    "df_all_words.head()"
   ]
  },
  {
   "cell_type": "code",
   "execution_count": 166,
   "metadata": {},
   "outputs": [
    {
     "name": "stderr",
     "output_type": "stream",
     "text": [
      "C:\\Users\\16538\\Anaconda3\\lib\\site-packages\\ipykernel\\__main__.py:1: FutureWarning: using a dict on a Series for aggregation\n",
      "is deprecated and will be removed in a future version\n",
      "  if __name__ == '__main__':\n"
     ]
    },
    {
     "data": {
      "text/html": [
       "<div>\n",
       "<style scoped>\n",
       "    .dataframe tbody tr th:only-of-type {\n",
       "        vertical-align: middle;\n",
       "    }\n",
       "\n",
       "    .dataframe tbody tr th {\n",
       "        vertical-align: top;\n",
       "    }\n",
       "\n",
       "    .dataframe thead th {\n",
       "        text-align: right;\n",
       "    }\n",
       "</style>\n",
       "<table border=\"1\" class=\"dataframe\">\n",
       "  <thead>\n",
       "    <tr style=\"text-align: right;\">\n",
       "      <th></th>\n",
       "      <th>all_words</th>\n",
       "      <th>count</th>\n",
       "    </tr>\n",
       "  </thead>\n",
       "  <tbody>\n",
       "    <tr>\n",
       "      <th>4077</th>\n",
       "      <td>中</td>\n",
       "      <td>5199</td>\n",
       "    </tr>\n",
       "    <tr>\n",
       "      <th>4209</th>\n",
       "      <td>中国</td>\n",
       "      <td>3115</td>\n",
       "    </tr>\n",
       "    <tr>\n",
       "      <th>88255</th>\n",
       "      <td>说</td>\n",
       "      <td>3055</td>\n",
       "    </tr>\n",
       "    <tr>\n",
       "      <th>104747</th>\n",
       "      <td>Ｓ</td>\n",
       "      <td>2646</td>\n",
       "    </tr>\n",
       "    <tr>\n",
       "      <th>1373</th>\n",
       "      <td>万</td>\n",
       "      <td>2390</td>\n",
       "    </tr>\n",
       "    <tr>\n",
       "      <th>104748</th>\n",
       "      <td>Ｔ</td>\n",
       "      <td>2310</td>\n",
       "    </tr>\n",
       "    <tr>\n",
       "      <th>104757</th>\n",
       "      <td>ａ</td>\n",
       "      <td>2306</td>\n",
       "    </tr>\n",
       "    <tr>\n",
       "      <th>104765</th>\n",
       "      <td>ｉ</td>\n",
       "      <td>2287</td>\n",
       "    </tr>\n",
       "    <tr>\n",
       "      <th>104761</th>\n",
       "      <td>ｅ</td>\n",
       "      <td>2270</td>\n",
       "    </tr>\n",
       "    <tr>\n",
       "      <th>104771</th>\n",
       "      <td>ｏ</td>\n",
       "      <td>2236</td>\n",
       "    </tr>\n",
       "    <tr>\n",
       "      <th>104744</th>\n",
       "      <td>Ｐ</td>\n",
       "      <td>2191</td>\n",
       "    </tr>\n",
       "    <tr>\n",
       "      <th>104731</th>\n",
       "      <td>Ｃ</td>\n",
       "      <td>2051</td>\n",
       "    </tr>\n",
       "    <tr>\n",
       "      <th>104741</th>\n",
       "      <td>Ｍ</td>\n",
       "      <td>2036</td>\n",
       "    </tr>\n",
       "    <tr>\n",
       "      <th>104750</th>\n",
       "      <td>Ｖ</td>\n",
       "      <td>2006</td>\n",
       "    </tr>\n",
       "    <tr>\n",
       "      <th>104737</th>\n",
       "      <td>Ｉ</td>\n",
       "      <td>1772</td>\n",
       "    </tr>\n",
       "    <tr>\n",
       "      <th>36703</th>\n",
       "      <td>市场</td>\n",
       "      <td>1762</td>\n",
       "    </tr>\n",
       "    <tr>\n",
       "      <th>104770</th>\n",
       "      <td>ｎ</td>\n",
       "      <td>1743</td>\n",
       "    </tr>\n",
       "    <tr>\n",
       "      <th>104732</th>\n",
       "      <td>Ｄ</td>\n",
       "      <td>1721</td>\n",
       "    </tr>\n",
       "    <tr>\n",
       "      <th>104740</th>\n",
       "      <td>Ｌ</td>\n",
       "      <td>1696</td>\n",
       "    </tr>\n",
       "    <tr>\n",
       "      <th>104742</th>\n",
       "      <td>Ｎ</td>\n",
       "      <td>1655</td>\n",
       "    </tr>\n",
       "  </tbody>\n",
       "</table>\n",
       "</div>"
      ],
      "text/plain": [
       "       all_words  count\n",
       "4077           中   5199\n",
       "4209          中国   3115\n",
       "88255          说   3055\n",
       "104747         Ｓ   2646\n",
       "1373           万   2390\n",
       "104748         Ｔ   2310\n",
       "104757         ａ   2306\n",
       "104765         ｉ   2287\n",
       "104761         ｅ   2270\n",
       "104771         ｏ   2236\n",
       "104744         Ｐ   2191\n",
       "104731         Ｃ   2051\n",
       "104741         Ｍ   2036\n",
       "104750         Ｖ   2006\n",
       "104737         Ｉ   1772\n",
       "36703         市场   1762\n",
       "104770         ｎ   1743\n",
       "104732         Ｄ   1721\n",
       "104740         Ｌ   1696\n",
       "104742         Ｎ   1655"
      ]
     },
     "execution_count": 166,
     "metadata": {},
     "output_type": "execute_result"
    }
   ],
   "source": [
    "words_count = df_all_words.groupby(by=['all_words'])['all_words'].agg({\"count\":np.size})# 得到每个单词的词频\n",
    "words_count = words_count.reset_index().sort_values(by=[\"count\"],ascending=False)#按词频进行排序\n",
    "words_count.head(20)"
   ]
  },
  {
   "cell_type": "code",
   "execution_count": 167,
   "metadata": {},
   "outputs": [
    {
     "data": {
      "text/plain": [
       "<matplotlib.image.AxesImage at 0x2370341a518>"
      ]
     },
     "execution_count": 167,
     "metadata": {},
     "output_type": "execute_result"
    },
    {
     "data": {
      "image/png": "[encoded data removed]",
      "text/plain": [
       "<Figure size 720x360 with 1 Axes>"
      ]
     },
     "metadata": {},
     "output_type": "display_data"
    }
   ],
   "source": [
    "from wordcloud import WordCloud\n",
    "import matplotlib.pyplot as plt\n",
    "import matplotlib\n",
    "%matplotlib inline\n",
    "matplotlib.rcParams['figure.figsize'] = {10.0,5.0}\n",
    "\n",
    "wordcloud = WordCloud(font_path='./data/simhei.ttf',background_color=\"white\",max_font_size=80)\n",
    "word_frequence = {x[0]:x[1] for x in words_count.head(100).values}\n",
    "wordcloud = wordcloud.fit_words(word_frequence)\n",
    "plt.imshow(wordcloud)"
   ]
  },
  {
   "cell_type": "markdown",
   "metadata": {},
   "source": [
    "### TF-IDF:提取关键词 ###"
   ]
  },
  {
   "cell_type": "code",
   "execution_count": 209,
   "metadata": {},
   "outputs": [
    {
     "name": "stdout",
     "output_type": "stream",
     "text": [
      "ＭＩＮＩ品牌在二月曾经公布了最新的ＭＩＮＩ新概念车Ｃｌｕｂｖａｎ效果图，不过现在在日内瓦车展上，ＭＩＮＩ品牌带来了全新的ＣＯＵＮＴＲＹＭＡＮ　ＪＣＷ版和Ｃｌｕｂｖａｎ概念车以及更多ＪＣＷ性能版车型亮相。＃停桑危伞。茫希眨危裕遥伲停粒巍。剩茫装嬖谕夤凵媳浠非常明显，其加装了空气动力学套件外观，并且针对个性的性能版车型采用了非常吸引眼球的黑色车身配红色车顶以及红色拉花的搭配。新款车型在性能上也做了改进，采用１８英寸合金轮毂，高性能刹车套件以及运动化悬挂组件，配合运动版尾排以及车侧的ＪＣＷ徽标彰显着这是一款体现性能的车型。＃停桑危伞。茫希眨危裕遥伲停粒巍。剩茫装嬖诙力上搭载的是一款１６０千瓦的１．６升涡轮增压引擎，最大扭矩３００牛米，同时还配有全轮驱动系统，百公里加速仅需７．０秒，极速被限制在２２５ｋｍ／ｈ或２２３ｋｍ／ｈ（选装６速自动变速箱）。．．．全文　＞　（来源：网上车市）\n",
      "\n",
      "\n",
      "车型 性能 停桑 危伞 茫希\n"
     ]
    }
   ],
   "source": [
    "import jieba.analyse\n",
    "index = 2\n",
    "print(df_news['content'][index])\n",
    "content_S_str = \"\".join(content_S[index])\n",
    "print(\"\\n\")\n",
    "print(\" \".join(jieba.analyse.extract_tags(content_S_str,topK=5,withWeight=False)))"
   ]
  },
  {
   "cell_type": "markdown",
   "metadata": {},
   "source": [
    "### LDA:主题模型 ###\n",
    "格式要求：list of list形式，分词好的整个语料\n",
    "主题，文章，词"
   ]
  },
  {
   "cell_type": "code",
   "execution_count": 169,
   "metadata": {},
   "outputs": [],
   "source": [
    "import gensim\n",
    "from gensim import corpora,models,similarities"
   ]
  },
  {
   "cell_type": "code",
   "execution_count": 173,
   "metadata": {},
   "outputs": [],
   "source": [
    "#做映射，相当于词袋\n",
    "dictionary = corpora.Dictionary(contents_clean)#把语料库做成字典，比如‘今天’是1，'明天'是2。。词袋模型\n",
    "corpus = [dictionary.doc2bow(sentence) for sentence in contents_clean]#在每一个sentence中都去做词袋模型这个东西"
   ]
  },
  {
   "cell_type": "code",
   "execution_count": 174,
   "metadata": {},
   "outputs": [],
   "source": [
    "lda = gensim.models.ldamodel.LdaModel(corpus=corpus, id2word=dictionary, num_topics=20)"
   ]
  },
  {
   "cell_type": "code",
   "execution_count": 175,
   "metadata": {},
   "outputs": [
    {
     "name": "stdout",
     "output_type": "stream",
     "text": [
      "0.005*\"中\" + 0.005*\"男人\" + 0.004*\"说\" + 0.003*\"训练\" + 0.003*\"赛季\"\n"
     ]
    }
   ],
   "source": [
    "print(lda.print_topic(1,topn=5))#打印出第一类主题的词"
   ]
  },
  {
   "cell_type": "code",
   "execution_count": 176,
   "metadata": {},
   "outputs": [
    {
     "name": "stdout",
     "output_type": "stream",
     "text": [
      "0.005*\"中\" + 0.004*\"说\" + 0.004*\"卫视\" + 0.002*\"於\" + 0.002*\"岁\"\n",
      "0.005*\"中\" + 0.005*\"男人\" + 0.004*\"说\" + 0.003*\"训练\" + 0.003*\"赛季\"\n",
      "0.006*\"比赛\" + 0.005*\"中\" + 0.004*\"高考\" + 0.004*\"说\" + 0.003*\"考试\"\n",
      "0.006*\"爆料\" + 0.005*\"中\" + 0.003*\"万\" + 0.003*\"号\" + 0.002*\"研究生\"\n",
      "0.006*\"表演\" + 0.003*\"中\" + 0.003*\"中国\" + 0.003*\"Ｐ\" + 0.003*\"说\"\n",
      "0.006*\"中\" + 0.003*\"Ｄ\" + 0.002*\"皮肤\" + 0.002*\"肌肤\" + 0.002*\"中国\"\n",
      "0.010*\"男人\" + 0.009*\"女人\" + 0.008*\"说\" + 0.005*\"中\" + 0.004*\"麽\"\n",
      "0.005*\"中\" + 0.004*\"说\" + 0.004*\"孩子\" + 0.003*\"Ｔ\" + 0.003*\"吃\"\n",
      "0.007*\"中\" + 0.004*\"说\" + 0.003*\"电影\" + 0.003*\"故事\" + 0.002*\"恋情\"\n",
      "0.007*\"中\" + 0.005*\"中国\" + 0.005*\"张绍\" + 0.005*\"美国\" + 0.003*\"决赛\"\n",
      "0.009*\"中\" + 0.006*\"男人\" + 0.006*\"女人\" + 0.005*\"电影\" + 0.005*\"比赛\"\n",
      "0.024*\"ａ\" + 0.021*\"ｅ\" + 0.017*\"ｉ\" + 0.016*\"ｏ\" + 0.016*\"ｎ\"\n",
      "0.010*\"万\" + 0.005*\"号\" + 0.004*\"男人\" + 0.004*\"专辑\" + 0.003*\"Ｋ\"\n",
      "0.010*\"球队\" + 0.008*\"选手\" + 0.005*\"中\" + 0.004*\"Ｖ\" + 0.004*\"Ｓ\"\n",
      "0.008*\"饰演\" + 0.006*\"中\" + 0.004*\"说\" + 0.003*\"官兵\" + 0.003*\"导师\"\n",
      "0.006*\"考生\" + 0.006*\"中\" + 0.004*\"节目\" + 0.003*\"说\" + 0.003*\"Ｎ\"\n",
      "0.014*\"观众\" + 0.005*\"李小璐\" + 0.005*\"剧中\" + 0.005*\"剧组\" + 0.004*\"中国\"\n",
      "0.009*\"中国\" + 0.006*\"中\" + 0.005*\"文化\" + 0.004*\"节目\" + 0.003*\"发展\"\n",
      "0.010*\"导演\" + 0.006*\"该剧\" + 0.005*\"天籁\" + 0.003*\"中\" + 0.003*\"万\"\n",
      "0.006*\"作品\" + 0.005*\"中\" + 0.003*\"中国\" + 0.003*\"电影\" + 0.003*\"院校\"\n"
     ]
    }
   ],
   "source": [
    "for topic in lda.print_topics(num_topics=20,num_words=5):#打印出20个主题内容\n",
    "    print(topic[1])"
   ]
  },
  {
   "cell_type": "code",
   "execution_count": 180,
   "metadata": {},
   "outputs": [
    {
     "data": {
      "text/html": [
       "<div>\n",
       "<style scoped>\n",
       "    .dataframe tbody tr th:only-of-type {\n",
       "        vertical-align: middle;\n",
       "    }\n",
       "\n",
       "    .dataframe tbody tr th {\n",
       "        vertical-align: top;\n",
       "    }\n",
       "\n",
       "    .dataframe thead th {\n",
       "        text-align: right;\n",
       "    }\n",
       "</style>\n",
       "<table border=\"1\" class=\"dataframe\">\n",
       "  <thead>\n",
       "    <tr style=\"text-align: right;\">\n",
       "      <th></th>\n",
       "      <th>contents_clean</th>\n",
       "      <th>label</th>\n",
       "    </tr>\n",
       "  </thead>\n",
       "  <tbody>\n",
       "    <tr>\n",
       "      <th>4995</th>\n",
       "      <td>[天气, 炎热, 补水, 变得, 美国, 跑步, 世界, 杂志, 报道, 喝水, 身体, 补...</td>\n",
       "      <td>时尚</td>\n",
       "    </tr>\n",
       "    <tr>\n",
       "      <th>4996</th>\n",
       "      <td>[不想, 说, 话, 刺激, 说, 做, 只能, 走, 离开, 伤心地, 想起, 一句, 话...</td>\n",
       "      <td>时尚</td>\n",
       "    </tr>\n",
       "    <tr>\n",
       "      <th>4997</th>\n",
       "      <td>[岁, 刘晓庆, 最新, 嫩照, Ｏ, 衷, 诘, 牧跸, 庆, 看不出, 岁, 秒杀, 刘...</td>\n",
       "      <td>时尚</td>\n",
       "    </tr>\n",
       "    <tr>\n",
       "      <th>4998</th>\n",
       "      <td>[导语, 做, 爸爸, 一种, 幸福, 无论是, 领养, 亲生, 更何况, 影视剧, 中, ...</td>\n",
       "      <td>时尚</td>\n",
       "    </tr>\n",
       "    <tr>\n",
       "      <th>4999</th>\n",
       "      <td>[全球, 最美, 女人, 合成图, 国, 整形外科, 教授, 李承哲, 国际, 学术, 杂志...</td>\n",
       "      <td>时尚</td>\n",
       "    </tr>\n",
       "  </tbody>\n",
       "</table>\n",
       "</div>"
      ],
      "text/plain": [
       "                                         contents_clean label\n",
       "4995  [天气, 炎热, 补水, 变得, 美国, 跑步, 世界, 杂志, 报道, 喝水, 身体, 补...    时尚\n",
       "4996  [不想, 说, 话, 刺激, 说, 做, 只能, 走, 离开, 伤心地, 想起, 一句, 话...    时尚\n",
       "4997  [岁, 刘晓庆, 最新, 嫩照, Ｏ, 衷, 诘, 牧跸, 庆, 看不出, 岁, 秒杀, 刘...    时尚\n",
       "4998  [导语, 做, 爸爸, 一种, 幸福, 无论是, 领养, 亲生, 更何况, 影视剧, 中, ...    时尚\n",
       "4999  [全球, 最美, 女人, 合成图, 国, 整形外科, 教授, 李承哲, 国际, 学术, 杂志...    时尚"
      ]
     },
     "execution_count": 180,
     "metadata": {},
     "output_type": "execute_result"
    }
   ],
   "source": [
    "df_train = pd.DataFrame({'contents_clean':contents_clean,'label':df_news['category']})\n",
    "df_train.tail()"
   ]
  },
  {
   "cell_type": "code",
   "execution_count": 181,
   "metadata": {},
   "outputs": [
    {
     "data": {
      "text/plain": [
       "array(['汽车', '财经', '科技', '健康', '体育', '教育', '文化', '军事', '娱乐', '时尚'],\n",
       "      dtype=object)"
      ]
     },
     "execution_count": 181,
     "metadata": {},
     "output_type": "execute_result"
    }
   ],
   "source": [
    "df_train.label.unique()"
   ]
  },
  {
   "cell_type": "code",
   "execution_count": 182,
   "metadata": {},
   "outputs": [
    {
     "data": {
      "text/html": [
       "<div>\n",
       "<style scoped>\n",
       "    .dataframe tbody tr th:only-of-type {\n",
       "        vertical-align: middle;\n",
       "    }\n",
       "\n",
       "    .dataframe tbody tr th {\n",
       "        vertical-align: top;\n",
       "    }\n",
       "\n",
       "    .dataframe thead th {\n",
       "        text-align: right;\n",
       "    }\n",
       "</style>\n",
       "<table border=\"1\" class=\"dataframe\">\n",
       "  <thead>\n",
       "    <tr style=\"text-align: right;\">\n",
       "      <th></th>\n",
       "      <th>contents_clean</th>\n",
       "      <th>label</th>\n",
       "    </tr>\n",
       "  </thead>\n",
       "  <tbody>\n",
       "    <tr>\n",
       "      <th>0</th>\n",
       "      <td>[经销商, 电话, 试驾, 订车, Ｕ, 憬, 杭州, 滨江区, 江陵, 路, 号, 转, ...</td>\n",
       "      <td>1</td>\n",
       "    </tr>\n",
       "    <tr>\n",
       "      <th>1</th>\n",
       "      <td>[呼叫, 热线, 服务, 邮箱, ｋ, ｆ, ｐ, ｅ, ｏ, ｐ, ｌ, ｅ, ｄ, ａ,...</td>\n",
       "      <td>1</td>\n",
       "    </tr>\n",
       "    <tr>\n",
       "      <th>2</th>\n",
       "      <td>[Ｍ, Ｉ, Ｎ, Ｉ, 品牌, 二月, 公布, 最新, Ｍ, Ｉ, Ｎ, Ｉ, 新, 概念...</td>\n",
       "      <td>1</td>\n",
       "    </tr>\n",
       "    <tr>\n",
       "      <th>3</th>\n",
       "      <td>[清仓, 甩卖, 一汽, 夏利, Ｎ, 威志, Ｖ, 低至, 万, 启新, 中国, 一汽, ...</td>\n",
       "      <td>1</td>\n",
       "    </tr>\n",
       "    <tr>\n",
       "      <th>4</th>\n",
       "      <td>[日内瓦, 车展, 见到, 高尔夫, 家族, 新, 成员, 高尔夫, 敞篷版, 款, 全新,...</td>\n",
       "      <td>1</td>\n",
       "    </tr>\n",
       "  </tbody>\n",
       "</table>\n",
       "</div>"
      ],
      "text/plain": [
       "                                      contents_clean  label\n",
       "0  [经销商, 电话, 试驾, 订车, Ｕ, 憬, 杭州, 滨江区, 江陵, 路, 号, 转, ...      1\n",
       "1  [呼叫, 热线, 服务, 邮箱, ｋ, ｆ, ｐ, ｅ, ｏ, ｐ, ｌ, ｅ, ｄ, ａ,...      1\n",
       "2  [Ｍ, Ｉ, Ｎ, Ｉ, 品牌, 二月, 公布, 最新, Ｍ, Ｉ, Ｎ, Ｉ, 新, 概念...      1\n",
       "3  [清仓, 甩卖, 一汽, 夏利, Ｎ, 威志, Ｖ, 低至, 万, 启新, 中国, 一汽, ...      1\n",
       "4  [日内瓦, 车展, 见到, 高尔夫, 家族, 新, 成员, 高尔夫, 敞篷版, 款, 全新,...      1"
      ]
     },
     "execution_count": 182,
     "metadata": {},
     "output_type": "execute_result"
    }
   ],
   "source": [
    "label_mapping = {\"汽车\":1,\"财经\":2,\"科技\":3,\"健康\":4,\"体育\":5,\"教育\":6,\"文化\":7,\"军事\":8,\"娱乐\":9,\"时尚\":10}\n",
    "df_train['label'] = df_train['label'].map(label_mapping)\n",
    "df_train.head()"
   ]
  },
  {
   "cell_type": "code",
   "execution_count": 183,
   "metadata": {},
   "outputs": [],
   "source": [
    "from sklearn.model_selection import train_test_split\n",
    "x_train,x_test,y_train,y_test = train_test_split(df_train['contents_clean'].values,df_train['label'].values)"
   ]
  },
  {
   "cell_type": "code",
   "execution_count": 195,
   "metadata": {},
   "outputs": [
    {
     "data": {
      "text/plain": [
       "'关注'"
      ]
     },
     "execution_count": 195,
     "metadata": {},
     "output_type": "execute_result"
    }
   ],
   "source": [
    "x_train[0][0]"
   ]
  },
  {
   "cell_type": "code",
   "execution_count": 212,
   "metadata": {},
   "outputs": [
    {
     "data": {
      "text/plain": [
       "'雅虎 体育讯 欧洲杯 半决赛 此刻 四支 球队 既难 掩 心中 渴望 任重道远 倒 决赛 门槛 前 上演 远在天边 近在眼前 悲惨 一幕 半决赛 成就 太 经典 画面 本文 盘点 欧洲杯 历史 激动人心 半决赛 薄 ⅲ 保梗福茨 攴 ü 加时赛 葡萄牙 保梗福茨 攴 ü 葡萄牙 这场 半决赛 欧洲杯 历史 精彩 一战 分钟 内战 成 平手 比赛 加时 分钟 葡萄牙 若尔当 本场 比赛 打进 球 成功 反超 正当 所有人 葡萄牙 逆转 胜出 法国 爆发 强大 斗志 分钟 多梅 尔格 成功 梅开二度 法国 比分 扳平 值得一提的是 多梅 尔格 国家队 生涯 中 一共 打进 两球 Ｑ 劭 幢 热 点球 大战 普拉蒂尼 分钟 挺身而出 打进 制胜球 法国 绝杀 葡萄牙 成功 晋级 决赛'"
      ]
     },
     "execution_count": 212,
     "metadata": {},
     "output_type": "execute_result"
    }
   ],
   "source": [
    "words = []\n",
    "for line_index in range(len(x_train)):\n",
    "    words.append(\" \".join(x_train[line_index]))#连接\n",
    "   \n",
    "        #print(line_index,word_index)\n",
    "words[2]"
   ]
  },
  {
   "cell_type": "markdown",
   "metadata": {},
   "source": [
    "把一句话转化成一个向量"
   ]
  },
  {
   "cell_type": "code",
   "execution_count": 206,
   "metadata": {},
   "outputs": [
    {
     "name": "stdout",
     "output_type": "stream",
     "text": [
      "['bird', 'cat', 'cat cat', 'cat fish', 'dog', 'dog cat', 'dog cat cat', 'dog cat fish', 'fish', 'fish bird']\n",
      "[[0 1 0 1 1 1 0 1 1 0]\n",
      " [0 2 1 0 1 1 1 0 0 0]\n",
      " [1 0 0 0 0 0 0 0 1 1]\n",
      " [1 0 0 0 0 0 0 0 0 0]]\n",
      "[2 3 1 1 2 2 1 1 2 1]\n"
     ]
    }
   ],
   "source": [
    "from sklearn.feature_extraction.text import CountVectorizer\n",
    "texts = ['dog cat fish','dog cat cat','fish bird','bird']#输入要求格式\n",
    "#cv = CountVectorizer()\n",
    "cv = CountVectorizer(ngram_range=(1,4))\n",
    "#如果是一个单词，则只有4种组合，而1，4可以有更多组合，向量维度会更大，一般设置2， 多了向量会稀疏\n",
    "cv_fit = cv.fit_transform(texts)\n",
    "\n",
    "print(cv.get_feature_names())\n",
    "print(cv_fit.toarray())\n",
    "print(cv_fit.toarray().sum(axis=0))"
   ]
  },
  {
   "cell_type": "code",
   "execution_count": 207,
   "metadata": {},
   "outputs": [
    {
     "name": "stdout",
     "output_type": "stream",
     "text": [
      "['bird', 'cat', 'dog', 'fish']\n",
      "[[0 1 1 1]\n",
      " [0 2 1 0]\n",
      " [1 0 0 1]\n",
      " [1 0 0 0]]\n",
      "[2 3 2 2]\n"
     ]
    }
   ],
   "source": [
    "from sklearn.feature_extraction.text import CountVectorizer\n",
    "texts = ['dog cat fish','dog cat cat','fish bird','bird']#输入要求格式\n",
    "cv = CountVectorizer()\n",
    "cv_fit = cv.fit_transform(texts)\n",
    "\n",
    "print(cv.get_feature_names())\n",
    "print(cv_fit.toarray())\n",
    "print(cv_fit.toarray().sum(axis=0))"
   ]
  },
  {
   "cell_type": "code",
   "execution_count": 198,
   "metadata": {},
   "outputs": [
    {
     "data": {
      "text/plain": [
       "CountVectorizer(analyzer='word', binary=False, decode_error='strict',\n",
       "        dtype=<class 'numpy.int64'>, encoding='utf-8', input='content',\n",
       "        lowercase=False, max_df=1.0, max_features=4000, min_df=1,\n",
       "        ngram_range=(1, 1), preprocessor=None, stop_words=None,\n",
       "        strip_accents=None, token_pattern='(?u)\\\\b\\\\w\\\\w+\\\\b',\n",
       "        tokenizer=None, vocabulary=None)"
      ]
     },
     "execution_count": 198,
     "metadata": {},
     "output_type": "execute_result"
    }
   ],
   "source": [
    "#按照规则去转化\n",
    "from sklearn.feature_extraction.text import CountVectorizer\n",
    "vec = CountVectorizer(analyzer='word',max_features=4000,lowercase=False)\n",
    "vec.fit(words)"
   ]
  },
  {
   "cell_type": "code",
   "execution_count": 199,
   "metadata": {},
   "outputs": [
    {
     "data": {
      "text/plain": [
       "MultinomialNB(alpha=1.0, class_prior=None, fit_prior=True)"
      ]
     },
     "execution_count": 199,
     "metadata": {},
     "output_type": "execute_result"
    }
   ],
   "source": [
    "from sklearn.naive_bayes import MultinomialNB\n",
    "classifier = MultinomialNB()\n",
    "classifier.fit(vec.transform(words),y_train)"
   ]
  },
  {
   "cell_type": "code",
   "execution_count": 201,
   "metadata": {},
   "outputs": [
    {
     "data": {
      "text/plain": [
       "'网上 车市 南京站 讯 欧洲杯 如火如荼 中 南京 品牌 经销商 推出 各项 优惠活动 力求 抓住 热潮 逆袭 网上 车市 整理 本周 南京 车市 价格行情 信息 优惠 万元 不乏 车友 关注 热门 车型 大众 帕萨特 标致 歌诗图 希望 本篇 文章 挑选 爱车 提供 便利 局 苤 星 讴歌 Ｍ Ｄ Ｘ 停模厥 豢 罱 运动 优雅 Ｓ Ｕ Ｖ 讴歌 高端 品牌 推出 主力 车型 活跃 北美 市场 Ｓ Ｕ Ｖ 舒适 宽敞 内部空间 占据 优势 此番 宁润 经销商 推出 讴歌 Ｍ Ｄ Ｘ 款 全系 优惠 万元 详情 Ｚ └ 枳 魑 高端 品牌 拥 精湛 工艺 打造 完美 汽车 追求 Ｍ Ｄ Ｘ 级别 Ｓ Ｕ Ｖ 中 拥有 独特 优势 清晰 简洁 外形 设计 出色 内饰 空间 丰富多彩 科技 配置 一度 好评 纬凳 谐 ↓ 笾 谂 寥特 Ｈ 新 帕萨特 稳重 大气 外表 拥有 舒适 驾驶 环境 宽敞 乘坐 空间 展现 车迷 朋友 完美 印象 符合 时尚 汽车 设计 全新 车身 体现 大众 最新 家族式 风格 南京 金鹰 苏星 上海大众 Ｓ 店 推出 新 帕萨特 车型 优惠 万 赠 元 装潢 礼 详情 Ｈ 新 帕萨特 整体 造型 全新 帕萨特 依旧 延续 大众 经典 设计 理念 相比 一代 新 帕萨特 提升 上海大众 旗下 战略 旗舰 车型 全新 帕萨特 外观 细节 设计 内饰 做工 科技 配置 与时俱进 曛 拢 矗 埃庚 风 标致 拥有 ＂ 广域 超 尺寸 空间 ＂ 设计 理念 最新 力作 时尚 大气 车身 造型 度 宽敞 舒适 空间 全方位 清晰 无界 视野 体贴 安心 内饰 质感 钢筋铁骨 装备 令 驾乘 座舱 瞬间 即可 领略 超然 气度 尽享 从容 自在 驾乘 感受 近日 网上 车市 编辑 东风 标致 南京 天泓标 远店 获悉 东风 标致 纪念版 优惠 元 送 元 装潢 现车 详情 Ｕ 宣传语 所说 ＂ ＂ 标致 吸引 中国 消费者 关键 条件 空间 更大 乘坐 舒适 装载 东西 一款 十几万元 级别 家用车 无疑 实惠 喜欢 车友们 进一步 经销商 Ｋ 箍 麓 镪 蝗 颀 Ｗ 魑 斯柯达 旗下 旗舰 车型 昊锐 全系 搭载 大众 先进 Ｔ Ｓ Ｉ 发动机 出自 大众 Ｂ 级车 底盘 无论是 动力性 操控性 舒适性 级别 车型 相比 占有 优势 近日 网上 车市 编辑 斯柯达 南京 坤 龙 Ｓ 店 获悉 购买 斯柯达 昊锐 优惠 万元 尊雅版 现车 详情 Ｋ 箍 麓 镪 蝗 褡 魑 一款 百年 老店 斯柯达 车型 做工 精良 用料 扎实 一款 不可多得 好车 外形 亮点 适合 稍微 年长 消费者 优点 面前 显得 微不足道 喜爱 车友们 进一步 经销商 Ｂ 碜 源 镱 Ｒ 睚 ｎ Ｒ 碚 车 外观 延袭 马自达 家族 流线 设计 传统 柳叶形 车灯 流畅 侧身 线条 融合 整车 动感 设计 理念 南京 聚金 Ｓ 店 推出 马自达 睿翼 多款 车型 优惠 优惠 万元 详情 Ｂ 碜 源铮额 Ｒ 碓 诩 菔 槐 憷 性 动力 燃油 经济 诸多方面 提升 多项 电子 配备 环绕 睿翼 动力 总成 车身 变化 大大提高 操控性 安全性 操控性 最佳 配合 矗埃埃福 转'"
      ]
     },
     "execution_count": 201,
     "metadata": {},
     "output_type": "execute_result"
    }
   ],
   "source": [
    "#对测试文档的处理\n",
    "test_words = []\n",
    "for line_index in range(len(x_test)):\n",
    "    test_words.append(\" \".join(x_test[line_index]))\n",
    "test_words[0]"
   ]
  },
  {
   "cell_type": "code",
   "execution_count": 202,
   "metadata": {},
   "outputs": [
    {
     "data": {
      "text/plain": [
       "0.8056"
      ]
     },
     "execution_count": 202,
     "metadata": {},
     "output_type": "execute_result"
    }
   ],
   "source": [
    "#基本贝叶斯\n",
    "classifier.score(vec.transform(test_words),y_test)"
   ]
  },
  {
   "cell_type": "code",
   "execution_count": 203,
   "metadata": {},
   "outputs": [
    {
     "data": {
      "text/plain": [
       "TfidfVectorizer(analyzer='word', binary=False, decode_error='strict',\n",
       "        dtype=<class 'numpy.int64'>, encoding='utf-8', input='content',\n",
       "        lowercase=False, max_df=1.0, max_features=4000, min_df=1,\n",
       "        ngram_range=(1, 1), norm='l2', preprocessor=None, smooth_idf=True,\n",
       "        stop_words=None, strip_accents=None, sublinear_tf=False,\n",
       "        token_pattern='(?u)\\\\b\\\\w\\\\w+\\\\b', tokenizer=None, use_idf=True,\n",
       "        vocabulary=None)"
      ]
     },
     "execution_count": 203,
     "metadata": {},
     "output_type": "execute_result"
    }
   ],
   "source": [
    "from sklearn.feature_extraction.text import TfidfVectorizer\n",
    "vectorizer = TfidfVectorizer(analyzer='word',max_features=4000,lowercase=False)\n",
    "vectorizer.fit(words)"
   ]
  },
  {
   "cell_type": "code",
   "execution_count": 204,
   "metadata": {},
   "outputs": [
    {
     "data": {
      "text/plain": [
       "MultinomialNB(alpha=1.0, class_prior=None, fit_prior=True)"
      ]
     },
     "execution_count": 204,
     "metadata": {},
     "output_type": "execute_result"
    }
   ],
   "source": [
    "from sklearn.naive_bayes import MultinomialNB\n",
    "classifier = MultinomialNB()\n",
    "classifier.fit(vectorizer.transform(words),y_train)"
   ]
  },
  {
   "cell_type": "code",
   "execution_count": 220,
   "metadata": {},
   "outputs": [
    {
     "data": {
      "text/plain": [
       "0.808"
      ]
     },
     "execution_count": 220,
     "metadata": {},
     "output_type": "execute_result"
    }
   ],
   "source": [
    "#基于TF-idf\n",
    "classifier.score(vectorizer.transform(test_words),y_test)"
   ]
  },
  {
   "cell_type": "code",
   "execution_count": null,
   "metadata": {},
   "outputs": [],
   "source": []
  }
 ],
 "metadata": {
  "kernelspec": {
   "display_name": "Python [conda env:Anaconda3]",
   "language": "python",
   "name": "conda-env-Anaconda3-py"
  },
  "language_info": {
   "codemirror_mode": {
    "name": "ipython",
    "version": 3
   },
   "file_extension": ".py",
   "mimetype": "text/x-python",
   "name": "python",
   "nbconvert_exporter": "python",
   "pygments_lexer": "ipython3",
   "version": "3.6.5"
  }
 },
 "nbformat": 4,
 "nbformat_minor": 2
}
