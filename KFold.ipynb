{
 "cells": [
  {
   "cell_type": "markdown",
   "metadata": {},
   "source": [
    "## K-折交叉验证 ###\n",
    "    步骤：\n",
    "    1.初始化参数\n",
    "    2.用split函数将数据分为训练集和测试集\n",
    "    \n",
    "    参数设置：\n",
    "    n_splits=5：几折，生成多少次的训练集和测试集\n",
    "    random_state=None：是否固定随机数种子\n",
    "    shuffle=False：是否打乱数据，打乱则生成的训练集和测试集不一定是连续的\n",
    "    \n",
    "    函数：\n",
    "    1.get_n_splits(X)#返回交叉验证器中分割迭代的次数\n",
    "    2.split(X):生成将数据分割为训练集和测试集的索引，索引都是列表\n",
    "    \n",
    "    注意：\n",
    "    1.将数据集分割为k个连续的折叠(默认情况下不进行洗牌)。k-1个是训练集，剩下的一个是测试集"
   ]
  },
  {
   "cell_type": "code",
   "execution_count": 34,
   "metadata": {},
   "outputs": [
    {
     "data": {
      "text/plain": [
       "5"
      ]
     },
     "execution_count": 34,
     "metadata": {},
     "output_type": "execute_result"
    }
   ],
   "source": [
    "from sklearn.model_selection import KFold\n",
    "import numpy as np\n",
    "X = np.array([[1,2],[3,4],[5,6],[7,8],[1,3],[1,2],[1,3],[1,3],[1,4],[3,4]])\n",
    "y = np.array([1,2,3,4,5,6,7,8,9,10])\n",
    "kf = KFold(n_splits=5,shuffle=False)\n",
    "kf.get_n_splits(X)#返回交叉验证器中分割迭代的次数"
   ]
  },
  {
   "cell_type": "code",
   "execution_count": 35,
   "metadata": {},
   "outputs": [
    {
     "name": "stdout",
     "output_type": "stream",
     "text": [
      "KFold(n_splits=5, random_state=None, shuffle=False)\n"
     ]
    }
   ],
   "source": [
    "print(kf)"
   ]
  },
  {
   "cell_type": "code",
   "execution_count": 38,
   "metadata": {},
   "outputs": [
    {
     "name": "stdout",
     "output_type": "stream",
     "text": [
      "划分：\n",
      "TRAIN: [2 3 4 5 6 7 8 9] TEST: [0 1]\n",
      "X_train: [[5 6]\n",
      " [7 8]\n",
      " [1 3]\n",
      " [1 2]\n",
      " [1 3]\n",
      " [1 3]\n",
      " [1 4]\n",
      " [3 4]] y_train： [ 3  4  5  6  7  8  9 10]\n",
      "X_test: [[1 2]\n",
      " [3 4]] y_test： [1 2]\n",
      "划分：\n",
      "TRAIN: [0 1 4 5 6 7 8 9] TEST: [2 3]\n",
      "X_train: [[1 2]\n",
      " [3 4]\n",
      " [1 3]\n",
      " [1 2]\n",
      " [1 3]\n",
      " [1 3]\n",
      " [1 4]\n",
      " [3 4]] y_train： [ 1  2  5  6  7  8  9 10]\n",
      "X_test: [[5 6]\n",
      " [7 8]] y_test： [3 4]\n",
      "划分：\n",
      "TRAIN: [0 1 2 3 6 7 8 9] TEST: [4 5]\n",
      "X_train: [[1 2]\n",
      " [3 4]\n",
      " [5 6]\n",
      " [7 8]\n",
      " [1 3]\n",
      " [1 3]\n",
      " [1 4]\n",
      " [3 4]] y_train： [ 1  2  3  4  7  8  9 10]\n",
      "X_test: [[1 3]\n",
      " [1 2]] y_test： [5 6]\n",
      "划分：\n",
      "TRAIN: [0 1 2 3 4 5 8 9] TEST: [6 7]\n",
      "X_train: [[1 2]\n",
      " [3 4]\n",
      " [5 6]\n",
      " [7 8]\n",
      " [1 3]\n",
      " [1 2]\n",
      " [1 4]\n",
      " [3 4]] y_train： [ 1  2  3  4  5  6  9 10]\n",
      "X_test: [[1 3]\n",
      " [1 3]] y_test： [7 8]\n",
      "划分：\n",
      "TRAIN: [0 1 2 3 4 5 6 7] TEST: [8 9]\n",
      "X_train: [[1 2]\n",
      " [3 4]\n",
      " [5 6]\n",
      " [7 8]\n",
      " [1 3]\n",
      " [1 2]\n",
      " [1 3]\n",
      " [1 3]] y_train： [1 2 3 4 5 6 7 8]\n",
      "X_test: [[1 4]\n",
      " [3 4]] y_test： [ 9 10]\n"
     ]
    }
   ],
   "source": [
    "#则进行预测可以直接写在这个函数里，每一轮都是一个重新的训练集和测试集\n",
    "for train_index, test_index in kf.split(X):#生成将数据分割为训练集和测试集的索引。索引都是列表\n",
    "    print(\"划分：\")\n",
    "    print(\"TRAIN:\",train_index,\"TEST:\",test_index)#这个print的用法\n",
    "    X_train, X_test = X[train_index], X[test_index]\n",
    "    y_train, y_test = y[train_index], y[test_index]\n",
    "    print(\"X_train:\",X_train,\"y_train：\",y_train)\n",
    "    print(\"X_test:\",X_test,\"y_test：\",y_test)\n"
   ]
  },
  {
   "cell_type": "code",
   "execution_count": null,
   "metadata": {},
   "outputs": [],
   "source": []
  }
 ],
 "metadata": {
  "kernelspec": {
   "display_name": "Python [default]",
   "language": "python",
   "name": "python3"
  },
  "language_info": {
   "codemirror_mode": {
    "name": "ipython",
    "version": 3
   },
   "file_extension": ".py",
   "mimetype": "text/x-python",
   "name": "python",
   "nbconvert_exporter": "python",
   "pygments_lexer": "ipython3",
   "version": "3.6.5"
  }
 },
 "nbformat": 4,
 "nbformat_minor": 2
}
